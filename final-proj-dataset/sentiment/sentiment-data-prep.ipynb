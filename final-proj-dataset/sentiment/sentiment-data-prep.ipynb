{
 "cells": [
  {
   "cell_type": "code",
   "execution_count": 56,
   "metadata": {},
   "outputs": [],
   "source": [
    "import math"
   ]
  },
  {
   "cell_type": "code",
   "execution_count": 57,
   "metadata": {},
   "outputs": [],
   "source": [
    "def parse_conll(filename):\n",
    "  writable = open(f\"{filename}.tsv\", \"w\")\n",
    "  writable.write(\"text\\tlabel\\tsource\\n\")\n",
    "  with open(f\"{filename}.conll\", 'r') as file:\n",
    "    sentence = \"\"\n",
    "    sentiment = \"\"\n",
    "    for line in file:\n",
    "      if line[0:2] == \"# \":\n",
    "        _, sentiment = line.split(\" \")[-1].split(\"\\t\")\n",
    "        sentiment = sentiment[:-1]\n",
    "      elif line == \"\\n\":\n",
    "        sentence = sentence[:-1]  # Remove last space\n",
    "        writable.write(f\"{sentence}\\t{sentiment}\\tsentimix\\n\")\n",
    "        sentence = \"\"\n",
    "      else:\n",
    "        word, _ = line.split(\"\\t\")\n",
    "        sentence += word + \" \""
   ]
  },
  {
   "cell_type": "code",
   "execution_count": 58,
   "metadata": {},
   "outputs": [],
   "source": [
    "def create_validation_set_spaeng(dir, split=0.15):\n",
    "  with open(f\"{dir}/train.tsv\", \"r\") as file:\n",
    "    lines = file.readlines()[1:] # Skip header line\n",
    "    line_count = len(lines)\n",
    "    print(line_count)\n",
    "\n",
    "  train = lines[:math.floor(line_count*(1-split))]\n",
    "  valid = lines[math.ceil(line_count*(1-split)):]\n",
    "\n",
    "  with open(f\"{dir}/train.tsv\", \"w\") as file:\n",
    "    file.write(\"text\\tlabel\\tsource\\n\")\n",
    "    file.writelines(train)\n",
    "\n",
    "  with open(f\"{dir}/valid.tsv\", \"w\") as file:\n",
    "    file.write(\"text\\tlabel\\tsource\\n\")\n",
    "    file.writelines(valid)\n"
   ]
  },
  {
   "cell_type": "code",
   "execution_count": 59,
   "metadata": {},
   "outputs": [
    {
     "name": "stdout",
     "output_type": "stream",
     "text": [
      "12194\n"
     ]
    }
   ],
   "source": [
    "parse_conll(\"sa_spaeng/train\")\n",
    "parse_conll(\"sa_spaeng/test\")\n",
    "create_validation_set_spaeng(\"sa_spaeng\")"
   ]
  }
 ],
 "metadata": {
  "kernelspec": {
   "display_name": "venv",
   "language": "python",
   "name": "python3"
  },
  "language_info": {
   "codemirror_mode": {
    "name": "ipython",
    "version": 3
   },
   "file_extension": ".py",
   "mimetype": "text/x-python",
   "name": "python",
   "nbconvert_exporter": "python",
   "pygments_lexer": "ipython3",
   "version": "3.12.7"
  }
 },
 "nbformat": 4,
 "nbformat_minor": 2
}
