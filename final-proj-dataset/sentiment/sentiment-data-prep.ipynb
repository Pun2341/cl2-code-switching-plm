{
 "cells": [
  {
   "cell_type": "code",
   "execution_count": 1,
   "metadata": {},
   "outputs": [],
   "source": [
    "import math\n",
    "import os"
   ]
  },
  {
   "cell_type": "code",
   "execution_count": null,
   "metadata": {},
   "outputs": [],
   "source": [
    "def parse_conll(filename):\n",
    "  writable = open(f\"{filename}.tsv\", \"w\")\n",
    "  writable.write(\"text\\tlabel\\tsource\\n\")\n",
    "  with open(f\"{filename}.conll\", 'r') as file:\n",
    "    sentence = \"\"\n",
    "    sentiment = \"\"\n",
    "    for line in file:\n",
    "      if line[0:2] == \"# \":\n",
    "        _, sentiment = line.split(\" \")[-1].split(\"\\t\")\n",
    "        sentiment = sentiment[:-1]\n",
    "      elif line == \"\\n\":\n",
    "        sentence = sentence[:-1]  # Remove last space\n",
    "        writable.write(f\"{sentence}\\t{sentiment}\\tLINCE\\n\")\n",
    "        sentence = \"\"\n",
    "      else:\n",
    "        word, _ = line.split(\"\\t\")\n",
    "        sentence += word + \" \""
   ]
  },
  {
   "cell_type": "code",
   "execution_count": null,
   "metadata": {},
   "outputs": [],
   "source": [
    "def create_validation_set_spaeng(dir, split=0.15):\n",
    "  with open(f\"{dir}/train.tsv\", \"r\") as file:\n",
    "    lines = file.readlines()[1:] # Skip header line\n",
    "    line_count = len(lines)\n",
    "\n",
    "  train = lines[:math.floor(line_count*(1-split))]\n",
    "  valid = lines[math.ceil(line_count*(1-split)):]\n",
    "\n",
    "  with open(f\"{dir}/train.tsv\", \"w\") as file:\n",
    "    file.write(\"text\\tlabel\\tsource\\n\")\n",
    "    file.writelines(train)\n",
    "\n",
    "  with open(f\"{dir}/valid.tsv\", \"w\") as file:\n",
    "    file.write(\"text\\tlabel\\tsource\\n\")\n",
    "    file.writelines(valid)\n"
   ]
  },
  {
   "cell_type": "code",
   "execution_count": 4,
   "metadata": {},
   "outputs": [
    {
     "name": "stdout",
     "output_type": "stream",
     "text": [
      "/Users/kiduszegeye/Desktop/Cornell/CS 6434/cl2-code-switching-plm/final-proj-dataset/sentiment\n",
      "/Users/kiduszegeye/Desktop/Cornell/CS 6434/cl2-code-switching-plm/final-proj-dataset/sentiment\n",
      "12194\n"
     ]
    }
   ],
   "source": [
    "parse_conll(\"sa_spaeng/train\")\n",
    "parse_conll(\"sa_spaeng/test\")\n",
    "create_validation_set_spaeng(\"sa_spaeng\")"
   ]
  }
 ],
 "metadata": {
  "kernelspec": {
   "display_name": "venv",
   "language": "python",
   "name": "python3"
  },
  "language_info": {
   "codemirror_mode": {
    "name": "ipython",
    "version": 3
   },
   "file_extension": ".py",
   "mimetype": "text/x-python",
   "name": "python",
   "nbconvert_exporter": "python",
   "pygments_lexer": "ipython3",
   "version": "3.12.7"
  }
 },
 "nbformat": 4,
 "nbformat_minor": 2
}
