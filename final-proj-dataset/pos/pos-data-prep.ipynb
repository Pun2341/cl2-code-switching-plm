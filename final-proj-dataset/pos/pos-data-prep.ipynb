{
 "cells": [
  {
   "cell_type": "code",
   "execution_count": 65,
   "metadata": {},
   "outputs": [],
   "source": [
    "import math\n",
    "import os"
   ]
  },
  {
   "cell_type": "code",
   "execution_count": 72,
   "metadata": {},
   "outputs": [],
   "source": [
    "def parse_conllu(filename, create_valid=False, validation_name=\"valid\", split=0.15):\n",
    "  writable = open(f\"{filename}-parsed.conll\", \"w\")\n",
    "  switched = False\n",
    "  with open(f\"{filename}.conllu\", 'r') as file:\n",
    "    total_count = 0\n",
    "    count = 0\n",
    "    if create_valid:\n",
    "      for line in file:\n",
    "        if line == \"\\n\":\n",
    "          total_count+=1\n",
    "    print(filename)\n",
    "    print(total_count)\n",
    "    print(math.floor(total_count*(1-split)))\n",
    "    print(math.ceil(total_count*(split)))\n",
    "  with open(f\"{filename}.conllu\", 'r') as file:\n",
    "    for line in file:\n",
    "      if create_valid and count>math.floor(total_count*(1-split)) and not switched:\n",
    "        writable = open(f\"{validation_name}-parsed.conll\", \"w\")\n",
    "        switched = True\n",
    "      if line[0:2] == \"# \":\n",
    "        continue\n",
    "      elif line == \"\\n\":\n",
    "        writable.write(f\"\\n\")\n",
    "        count += 1\n",
    "      else:\n",
    "        tokens = line.split(\"\\t\")\n",
    "        writable.write(f\"{tokens[1]}\\t{tokens[3]}\\n\")\n",
    "\n",
    "def parse_conll(filename, create_valid=False, validation_name=\"valid\", split=0.15):\n",
    "  writable = open(f\"{filename}-parsed.conll\", \"w\")\n",
    "  switched = False\n",
    "\n",
    "  with open(f\"{filename}.conll\", 'r') as file:\n",
    "    total_count = 0\n",
    "    count = 0\n",
    "    if create_valid:\n",
    "      for line in file:\n",
    "        if line == \"\\n\":\n",
    "          total_count+=1\n",
    "  print(filename)\n",
    "  print(total_count)\n",
    "  print(math.floor(total_count*(1-split)))\n",
    "  print(math.ceil(total_count*(split)))\n",
    "  with open(f\"{filename}.conll\", 'r') as file:\n",
    "    for line in file:\n",
    "      if create_valid and count>math.floor(total_count*(1-split)) and not switched:\n",
    "        writable = open(f\"{validation_name}-parsed.conll\", \"w\")\n",
    "        switched = True\n",
    "      if line[0:2] == \"# \":\n",
    "        continue\n",
    "      elif line == \"\\n\":\n",
    "        writable.write(f\"\\n\")\n",
    "        count+=1\n",
    "        \n",
    "      else:\n",
    "        tokens = line.split(\"\\t\")\n",
    "        writable.write(f\"{tokens[0]}\\t{tokens[2]}\")"
   ]
  },
  {
   "cell_type": "code",
   "execution_count": 73,
   "metadata": {},
   "outputs": [
    {
     "name": "stdout",
     "output_type": "stream",
     "text": [
      "english_pos/en-ud-tweet-dev\n",
      "0\n",
      "0\n",
      "0\n",
      "english_pos/en-ud-tweet-train\n",
      "1639\n",
      "1393\n",
      "246\n",
      "english_pos/en-ud-tweet-test\n",
      "0\n",
      "0\n",
      "0\n",
      "spanish_pos/es_ancora-ud-dev\n",
      "0\n",
      "0\n",
      "0\n",
      "spanish_pos/es_ancora-ud-train\n",
      "14287\n",
      "12143\n",
      "2144\n",
      "spanish_pos/es_ancora-ud-test\n",
      "0\n",
      "0\n",
      "0\n",
      "cs_pos/dev\n",
      "0\n",
      "0\n",
      "0\n",
      "cs_pos/train\n",
      "27893\n",
      "23709\n",
      "4184\n"
     ]
    }
   ],
   "source": [
    "parse_conllu(\"english_pos/en-ud-tweet-dev\")\n",
    "parse_conllu(\"english_pos/en-ud-tweet-train\",True,\"english_pos/en-ud-tweet-valid\",0.15)\n",
    "parse_conllu(\"english_pos/en-ud-tweet-test\")\n",
    "\n",
    "parse_conllu(\"spanish_pos/es_ancora-ud-dev\")\n",
    "parse_conllu(\"spanish_pos/es_ancora-ud-train\",True,\"spanish_pos/es_ancora-ud-valid\",0.15)\n",
    "parse_conllu(\"spanish_pos/es_ancora-ud-test\")\n",
    "\n",
    "parse_conll(\"cs_pos/dev\")\n",
    "parse_conll(\"cs_pos/train\",True,\"cs_pos/valid\",0.15)\n"
   ]
  }
 ],
 "metadata": {
  "kernelspec": {
   "display_name": "venv",
   "language": "python",
   "name": "python3"
  },
  "language_info": {
   "codemirror_mode": {
    "name": "ipython",
    "version": 3
   },
   "file_extension": ".py",
   "mimetype": "text/x-python",
   "name": "python",
   "nbconvert_exporter": "python",
   "pygments_lexer": "ipython3",
   "version": "3.12.7"
  }
 },
 "nbformat": 4,
 "nbformat_minor": 2
}
