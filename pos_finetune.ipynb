{
 "cells": [
  {
   "cell_type": "code",
   "execution_count": null,
   "metadata": {
    "id": "Gwpm9e5FeaIp"
   },
   "outputs": [],
   "source": [
    "# tutorial followed for reference:\n",
    "# https://github.com/Kyubyong/nlp_made_easy/blob/master/Pos-tagging%20with%20Bert%20Fine-tuning.ipynb"
   ]
  },
  {
   "cell_type": "markdown",
   "metadata": {
    "id": "snEYUVIAphTe"
   },
   "source": [
    "#Setup and functions"
   ]
  },
  {
   "cell_type": "code",
   "execution_count": 1,
   "metadata": {
    "colab": {
     "base_uri": "https://localhost:8080/"
    },
    "id": "MUI5RWbWfD99",
    "outputId": "12a5bd15-e9aa-465b-ecb3-9f730fc5545e"
   },
   "outputs": [
    {
     "name": "stdout",
     "output_type": "stream",
     "text": [
      "Mounted at /content/drive\n"
     ]
    }
   ],
   "source": [
    "from google.colab import drive\n",
    "drive.mount('/content/drive')"
   ]
  },
  {
   "cell_type": "code",
   "execution_count": 2,
   "metadata": {
    "id": "GFeOtr0ReaIv"
   },
   "outputs": [],
   "source": [
    "from transformers import BertModel, BertTokenizer, BertForTokenClassification, XLMRobertaTokenizer, XLMRobertaModel\n",
    "import pandas as pd\n",
    "import torch\n",
    "import torch.nn as nn\n",
    "from torch.utils import data\n",
    "import numpy as np"
   ]
  },
  {
   "cell_type": "code",
   "execution_count": 3,
   "metadata": {
    "id": "SqUx4hw74-sL"
   },
   "outputs": [],
   "source": [
    "import sklearn\n",
    "from sklearn.metrics import f1_score, accuracy_score, precision_score, recall_score, confusion_matrix"
   ]
  },
  {
   "cell_type": "code",
   "execution_count": 4,
   "metadata": {
    "id": "ga-AHUm888-A"
   },
   "outputs": [],
   "source": [
    "tag2idx = {'X': 0, 'PART': 1, 'AUX': 2, 'PUNCT': 3, '<pad>': 4, 'CONJ': 5, 'PRON': 6, 'INTJ': 7, 'NOUN': 8, 'VERB': 9, 'NUM': 10, 'SCONJ': 11, 'DET': 12, 'PROPN': 13, 'ADP': 14, 'ADV': 15, 'ADJ': 16}\n",
    "idx2tag = {0: 'X', 1: 'PART', 2: 'AUX', 3: 'PUNCT', 4: '<pad>', 5: 'CONJ', 6: 'PRON', 7: 'INTJ', 8: 'NOUN', 9: 'VERB', 10: 'NUM', 11: 'SCONJ', 12: 'DET', 13: 'PROPN', 14: 'ADP', 15: 'ADV', 16: 'ADJ'}"
   ]
  },
  {
   "cell_type": "code",
   "execution_count": 5,
   "metadata": {
    "id": "CyteDLxXhggr"
   },
   "outputs": [],
   "source": [
    "class PosDataset(data.Dataset):\n",
    "    def __init__(self, tokenizer, datafile):\n",
    "        self.tokenizer = tokenizer\n",
    "        with open(datafile, 'r') as f:\n",
    "            lines = f.readlines()\n",
    "            processed_data = [[\"[CLS]\",\"<pad>\"]]\n",
    "            for line in lines:\n",
    "                if line == \"\\n\":\n",
    "                    processed_data.append([\"[SEP]\",\"<pad>\"])\n",
    "                    processed_data.append([\"[CLS]\",\"<pad>\"])\n",
    "                else:\n",
    "                    # Split word and label by whitespace\n",
    "                    word, label = line.split(\"\t\")\n",
    "                    if label[:-1] == 'SYM': label = 'X\\n'\n",
    "                    if label[:-1] == 'UNK': label = 'X\\n'\n",
    "                    if label[:-1] == 'CCONJ': label = 'CONJ\\n'\n",
    "                    if word  != \"_\" and label[:-1] != \"_\": processed_data.append([word, label[:-1]])\n",
    "\n",
    "            # Create a pandas DataFrame\n",
    "            df = pd.DataFrame(processed_data[:-1], columns=[\"word\", \"tag\"])\n",
    "\n",
    "        words = df['word'].values\n",
    "        tags = df['tag'].values\n",
    "\n",
    "        sentences, sentence_tags = [], []\n",
    "        for i, word in enumerate(words):\n",
    "            if word == \"[CLS]\": cls_index = i\n",
    "            if word == \"[SEP]\":\n",
    "                sentences.append(words[cls_index:i+1])\n",
    "                sentence_tags.append(tags[cls_index:i+1])\n",
    "\n",
    "        self.sentences, self.sentence_tags = sentences, sentence_tags\n",
    "\n",
    "    def __len__(self):\n",
    "        return len(self.sentences)\n",
    "\n",
    "    def __getitem__(self, idx):\n",
    "        words, tags = self.sentences[idx], self.sentence_tags[idx] #get this sentence at idx\n",
    "        word_ids, tag_ids = [], [] # lists of ids\n",
    "        is_head_list = [] # list. 1: the token is the first piece of a word\n",
    "\n",
    "        for word, tag in zip(words, tags):\n",
    "            tokens = self.tokenizer.tokenize(word) if word not in (\"[CLS]\", \"[SEP]\") else [word]\n",
    "            this_word_ids = self.tokenizer.convert_tokens_to_ids(tokens)\n",
    "\n",
    "            is_head = [1] + [0]*(len(tokens) - 1)\n",
    "\n",
    "            tag = [tag] + [\"<pad>\"] * (len(tokens) - 1)  # <PAD>: no decision\n",
    "            this_tag_ids = [tag2idx[each] for each in tag]  # (T,)\n",
    "\n",
    "\n",
    "            word_ids.extend(this_word_ids)\n",
    "            is_head_list.extend(is_head)\n",
    "            tag_ids.extend(this_tag_ids)\n",
    "\n",
    "            seq_length = len(word_ids)\n",
    "\n",
    "        return words, tags, word_ids, tag_ids, is_head_list, seq_length"
   ]
  },
  {
   "cell_type": "code",
   "execution_count": 6,
   "metadata": {
    "id": "N0wtHs0MeaIw"
   },
   "outputs": [],
   "source": [
    "MAX_LEN = 140 #len of longest sentence in data: 140 for cs, 40 for eng\n",
    "batch_size = 32"
   ]
  },
  {
   "cell_type": "code",
   "execution_count": 7,
   "metadata": {
    "colab": {
     "base_uri": "https://localhost:8080/",
     "height": 243,
     "referenced_widgets": [
      "1d263cebd92d4c109819877ae5eb098b",
      "783b36fbc4604f3b85b07354e7577336",
      "0c40bd78533549c481a2060166b0958e",
      "1b2b874622d24ee6ab8a1ba15360c5e0",
      "c76ea8f9798e4a25b2098c80199e81b0",
      "2853aebbcb79408fb2238dd69e9dbaf9",
      "4be4e39959d04d45a83de2dec7c5bd93",
      "11a4d202ed484cccbbfa55018f8fd7b4",
      "85b63951130246a783dff779420ff2b6",
      "2dd213f4f8d84b4aa6dd86991d806564",
      "5137101977ab4a2d90a9444dbd4c86c1",
      "ef467d2c5e334851a3d72f0175ccaa26",
      "b98be0960ac84346815630f35d0c54e4",
      "41b757902cbb4a3aaaaf8ffaac9329ec",
      "b78d879534734f1dac8c97e234638ee7",
      "a9d67c34a5934828a6e80e7233d1466f",
      "61811cf1030c40048697e92d5011d0b4",
      "51332772f51d49bcbaa9fac5c0c080a8",
      "e71bafcf694b4171abfe1db4e835040e",
      "b00aebd11e354cb98541a8ad2b89739e",
      "9493e65eafba404e824ff35a929fe197",
      "d613bf84e0d24ff5bf28ba3062ef235a",
      "61ac80dbd6544140973808ba23bdba65",
      "0b94290fd60b4c77ada04788480f9cd6",
      "65267683c8114e7cb839402ab2398b19",
      "47cd73eff6f8493ba6c082f1a58191b5",
      "67653f00fe5b41f6ad0d9146c8c87508",
      "6f9dc641fca64f6aa184bbfdaf76c982",
      "371c46b0b0ff4e738616df7076bde2c6",
      "3496a6245ec841e8a3bf53e2f954fa07",
      "8bee08bfb9584281815cdc306f8ce277",
      "eb69ee266e964e70ad9c339eb51fa797",
      "fe811067e50b424a96ad5f0dc19d1d84",
      "7febcbccb2784b8494c07074235e411b",
      "e793b5932d13404cb18dcb4d12566e9d",
      "39cedd9ebe2947a3bbc6838a347d1310",
      "c51f7da28ab64e7ca1d19924223a5126",
      "56e2d6fa00eb46d9988560c4417bed3e",
      "7df090cb10944766bb1adb95e5062b4d",
      "ebc2a67d91a144e0b746c3d54a6757ac",
      "c1ed28e3a6c74e53ac4f88fd015d5f7f",
      "d14c874b56cc48dc9a4302302d89df11",
      "865499a658f648eca8e3914947bf3209",
      "983a03b280f140538cc285013dc34df7"
     ]
    },
    "id": "RuE_990leaIx",
    "outputId": "a89557d0-ff23-4729-b6af-7eaa1f92753e"
   },
   "outputs": [
    {
     "name": "stderr",
     "output_type": "stream",
     "text": [
      "/usr/local/lib/python3.10/dist-packages/huggingface_hub/utils/_auth.py:94: UserWarning: \n",
      "The secret `HF_TOKEN` does not exist in your Colab secrets.\n",
      "To authenticate with the Hugging Face Hub, create a token in your settings tab (https://huggingface.co/settings/tokens), set it as secret in your Google Colab and restart your session.\n",
      "You will be able to reuse this secret in all of your notebooks.\n",
      "Please note that authentication is recommended but still optional to access public models or datasets.\n",
      "  warnings.warn(\n"
     ]
    },
    {
     "data": {
      "application/vnd.jupyter.widget-view+json": {
       "model_id": "1d263cebd92d4c109819877ae5eb098b",
       "version_major": 2,
       "version_minor": 0
      },
      "text/plain": [
       "tokenizer_config.json:   0%|          | 0.00/49.0 [00:00<?, ?B/s]"
      ]
     },
     "metadata": {},
     "output_type": "display_data"
    },
    {
     "data": {
      "application/vnd.jupyter.widget-view+json": {
       "model_id": "ef467d2c5e334851a3d72f0175ccaa26",
       "version_major": 2,
       "version_minor": 0
      },
      "text/plain": [
       "vocab.txt:   0%|          | 0.00/996k [00:00<?, ?B/s]"
      ]
     },
     "metadata": {},
     "output_type": "display_data"
    },
    {
     "data": {
      "application/vnd.jupyter.widget-view+json": {
       "model_id": "61ac80dbd6544140973808ba23bdba65",
       "version_major": 2,
       "version_minor": 0
      },
      "text/plain": [
       "tokenizer.json:   0%|          | 0.00/1.96M [00:00<?, ?B/s]"
      ]
     },
     "metadata": {},
     "output_type": "display_data"
    },
    {
     "data": {
      "application/vnd.jupyter.widget-view+json": {
       "model_id": "7febcbccb2784b8494c07074235e411b",
       "version_major": 2,
       "version_minor": 0
      },
      "text/plain": [
       "config.json:   0%|          | 0.00/625 [00:00<?, ?B/s]"
      ]
     },
     "metadata": {},
     "output_type": "display_data"
    }
   ],
   "source": [
    "tokenizer = BertTokenizer.from_pretrained(\"bert-base-multilingual-cased\")"
   ]
  },
  {
   "cell_type": "code",
   "execution_count": 8,
   "metadata": {
    "id": "r3W2GLzKeaI0"
   },
   "outputs": [],
   "source": [
    "def pad(batch):\n",
    "    '''Pads to the longest sample'''\n",
    "    #sample: (words, tags, word_ids, tag_ids, is_head_list, seq_length)\n",
    "    words = [sample[0] for sample in batch]\n",
    "    tags = [sample[1] for sample in batch]\n",
    "    is_head_list = [sample[4] for sample in batch]\n",
    "    seq_lengths = [sample[5] for sample in batch]\n",
    "    maxlen = np.array(seq_lengths).max()\n",
    "\n",
    "    word_ids = [sample[2] + [0] * (maxlen - len(sample[2])) for sample in batch] # pad with 0s at end\n",
    "    tag_ids = [sample[3] + [0] * (maxlen - len(sample[3])) for sample in batch]\n",
    "\n",
    "    attention_masks = [[1] * len(sample[2]) + [0] * (maxlen - len(sample[2])) for sample in batch]\n",
    "\n",
    "    return words, tags, torch.LongTensor(word_ids), torch.LongTensor(tag_ids), torch.LongTensor(attention_masks), is_head_list, seq_lengths"
   ]
  },
  {
   "cell_type": "code",
   "execution_count": 9,
   "metadata": {
    "id": "3dl__E1leaI3"
   },
   "outputs": [],
   "source": [
    "def train(model, iterator, optimizer, criterion, num_epochs, max_grad_norm):\n",
    "\n",
    "    model.to(device)\n",
    "\n",
    "    for _ in range(num_epochs):\n",
    "        model.train()\n",
    "        total_loss = 0\n",
    "\n",
    "        for step, batch in enumerate(iterator):\n",
    "            words, tags = batch[0], batch[1]\n",
    "            word_ids = batch[2].to(device)\n",
    "            tag_ids = batch[3].to(device)\n",
    "            attention_masks = batch[4].to(device)\n",
    "            is_heads, seq_lens = batch[5], batch[6]\n",
    "\n",
    "            model.zero_grad()\n",
    "            outputs = model(word_ids, attention_mask=attention_masks, labels=tag_ids)\n",
    "            loss = outputs[0]\n",
    "            loss.backward()\n",
    "            total_loss += loss.item()\n",
    "            torch.nn.utils.clip_grad_norm_(parameters=model.parameters(), max_norm=max_grad_norm)\n",
    "            optimizer.step()\n",
    "\n",
    "            if step%50==0: # monitoring\n",
    "                print(\"step: {}, loss: {}\".format(step, loss.item()))\n",
    "\n",
    "        # Calculate the average loss over the training data.\n",
    "        avg_train_loss = total_loss / len(iterator)\n",
    "        print(\"Average train loss: {}\".format(avg_train_loss))"
   ]
  },
  {
   "cell_type": "code",
   "execution_count": 10,
   "metadata": {
    "id": "qkRVpO6feaI2"
   },
   "outputs": [],
   "source": [
    "num_epochs = 10\n",
    "max_grad_norm = 1.0"
   ]
  },
  {
   "cell_type": "code",
   "execution_count": 11,
   "metadata": {
    "id": "PQF1yRhrjkah"
   },
   "outputs": [],
   "source": [
    "device = torch.device(\"cuda\" if torch.cuda.is_available() else \"cpu\")\n",
    "n_gpu = torch.cuda.device_count()"
   ]
  },
  {
   "cell_type": "code",
   "execution_count": 12,
   "metadata": {
    "collapsed": true,
    "id": "i93lGaDzjlWK"
   },
   "outputs": [],
   "source": [
    "# torch.cuda.get_device_name(0)"
   ]
  },
  {
   "cell_type": "code",
   "execution_count": 18,
   "metadata": {
    "id": "J3tIhK3UCeuq"
   },
   "outputs": [],
   "source": [
    "def eval(model, iterator, dataset):\n",
    "    model.eval()\n",
    "\n",
    "    Words, Is_heads, Tags, Tag_ids, Pred_ids = [], [], [], [], []\n",
    "    with torch.no_grad():\n",
    "        for i, batch in enumerate(iterator):\n",
    "            words, tags = batch[0], batch[1]\n",
    "            word_ids = batch[2].to(device)\n",
    "            tag_ids = batch[3].to(device)\n",
    "            attention_masks = batch[4].to(device)\n",
    "            is_heads, seq_lens = batch[5], batch[6]\n",
    "\n",
    "            outputs = model(word_ids, attention_mask=attention_masks, labels=tag_ids)\n",
    "            loss = outputs[0].item()\n",
    "            pred_ids = outputs[1].argmax(-1)\n",
    "            Words.extend(words)\n",
    "            Is_heads.extend(is_heads)\n",
    "            Tags.extend(tags)\n",
    "            Tag_ids.extend(tag_ids.cpu().numpy().tolist())\n",
    "            Pred_ids.extend(pred_ids.cpu().numpy().tolist())\n",
    "\n",
    "    ## gets results and save\n",
    "    with open(\"result\", 'w') as fout:\n",
    "        for words, is_heads, tags, pred_ids in zip(Words, Is_heads, Tags, Pred_ids):\n",
    "            pred_ids = [hat for head, hat in zip(is_heads, pred_ids) if head == 1]\n",
    "            preds = [idx2tag[hat] for hat in pred_ids]\n",
    "            assert len(preds)==len(words)==len(tags)\n",
    "            for w, t, p in zip(words[1:-1], tags[1:-1], preds[1:-1]):\n",
    "                fout.write(\"{} {} {}\\n\".format(w, t, p))\n",
    "            fout.write(\"\\n\")\n",
    "\n",
    "    ## calc metric\n",
    "    y_true =  np.array([tag2idx[line.split()[1]] for line in open('result', 'r').read().splitlines() if len(line) > 0])\n",
    "    y_pred =  np.array([tag2idx[line.split()[2]] for line in open('result', 'r').read().splitlines() if len(line) > 0])\n",
    "\n",
    "    acc = (y_true==y_pred).astype(np.int32).sum() / len(y_true)\n",
    "\n",
    "    print(\"Accuracy: %.2f\"%acc)\n",
    "\n",
    "    return y_true, y_pred"
   ]
  },
  {
   "cell_type": "markdown",
   "metadata": {
    "id": "XxvO00FVBd8B"
   },
   "source": [
    "#Train on CS:"
   ]
  },
  {
   "cell_type": "code",
   "execution_count": null,
   "metadata": {
    "colab": {
     "base_uri": "https://localhost:8080/",
     "height": 102,
     "referenced_widgets": [
      "ecb94ffc3f2f4a5d9dd08db84f7d98cf",
      "2ae3b2898eda4306bbcdd1607574c7ba",
      "fa2b48a8a68d4644b41a6ed1782c90ea",
      "50838c5cf06e411183de700aca602c6e",
      "4ca88eac89d444d8888a0ae4816c4f99",
      "e4fc73c8d0bb45f586768a9dcfcb0996",
      "f8d637b6b83a4960a808d9dba803c5f2",
      "4216f911f52444fe8ee81c51c4c40ee7",
      "44d4b1494ebe4a17a291fc81b1412475",
      "66bd8b8128a54a97b13affc2472cafae",
      "1aa79327a04d49058693f4a1626f87c1"
     ]
    },
    "id": "M62Oiwc_eaI1",
    "outputId": "c74bb3a9-2eaa-4d81-cb81-ed208149e401"
   },
   "outputs": [
    {
     "data": {
      "application/vnd.jupyter.widget-view+json": {
       "model_id": "ecb94ffc3f2f4a5d9dd08db84f7d98cf",
       "version_major": 2,
       "version_minor": 0
      },
      "text/plain": [
       "model.safetensors:  38%|###8      | 273M/714M [00:00<?, ?B/s]"
      ]
     },
     "metadata": {},
     "output_type": "display_data"
    },
    {
     "name": "stderr",
     "output_type": "stream",
     "text": [
      "Some weights of BertForTokenClassification were not initialized from the model checkpoint at bert-base-multilingual-cased and are newly initialized: ['classifier.bias', 'classifier.weight']\n",
      "You should probably TRAIN this model on a down-stream task to be able to use it for predictions and inference.\n"
     ]
    }
   ],
   "source": [
    "train_dataset = PosDataset(tokenizer, 'final-proj-dataset/pos/cs_pos/train-parsed.conll')\n",
    "train_dataset.sentences = train_dataset.sentences[:1394]\n",
    "train_dataset.sentence_tags = train_dataset.sentence_tags[:1394]\n",
    "\n",
    "model = BertForTokenClassification.from_pretrained(\n",
    "    \"bert-base-multilingual-cased\",\n",
    "    num_labels=len(tag2idx),\n",
    "    output_attentions = False,\n",
    "    output_hidden_states = False\n",
    ")\n",
    "\n",
    "train_iter = data.DataLoader(dataset=train_dataset,\n",
    "                             batch_size=32,\n",
    "                             shuffle=False,\n",
    "                             collate_fn=pad)\n",
    "\n",
    "optimizer = torch.optim.Adam(model.parameters(), lr = 0.0001)\n",
    "\n",
    "criterion = nn.CrossEntropyLoss(ignore_index=0)"
   ]
  },
  {
   "cell_type": "code",
   "execution_count": 19,
   "metadata": {
    "colab": {
     "base_uri": "https://localhost:8080/"
    },
    "id": "8UoA_lTWeaI3",
    "outputId": "71e16491-7c85-41f6-b3e3-d15fa28bc88d"
   },
   "outputs": [
    {
     "name": "stdout",
     "output_type": "stream",
     "text": [
      "step: 0, loss: 2.843987464904785\n",
      "Average train loss: 0.46671396430412476\n",
      "step: 0, loss: 0.09753526002168655\n",
      "Average train loss: 0.046811475164510986\n",
      "step: 0, loss: 0.05057603865861893\n",
      "Average train loss: 0.027905477888204834\n",
      "step: 0, loss: 0.017086857929825783\n",
      "Average train loss: 0.019723057260059497\n",
      "step: 0, loss: 0.013691321946680546\n",
      "Average train loss: 0.014565934204835106\n",
      "step: 0, loss: 0.0041452995501458645\n",
      "Average train loss: 0.011061436644839969\n",
      "step: 0, loss: 0.0035463827662169933\n",
      "Average train loss: 0.009329275286290795\n",
      "step: 0, loss: 0.012134555727243423\n",
      "Average train loss: 0.009304401644674892\n",
      "step: 0, loss: 0.005918328650295734\n",
      "Average train loss: 0.008345320214919577\n",
      "step: 0, loss: 0.005453505087643862\n",
      "Average train loss: 0.008781182131232608\n"
     ]
    }
   ],
   "source": [
    "train(model, train_iter, optimizer, criterion, num_epochs, max_grad_norm)"
   ]
  },
  {
   "cell_type": "code",
   "execution_count": null,
   "metadata": {
    "id": "arOz2sFisUpJ"
   },
   "outputs": [],
   "source": [
    "torch.save(model,'pos_cs_model.pt')"
   ]
  },
  {
   "cell_type": "code",
   "execution_count": 30,
   "metadata": {
    "colab": {
     "base_uri": "https://localhost:8080/",
     "height": 377
    },
    "id": "aMFQKYkPCAno",
    "outputId": "e64e49a5-dc25-452c-c7b4-9a632b3acf3d"
   },
   "outputs": [
    {
     "name": "stderr",
     "output_type": "stream",
     "text": [
      "<ipython-input-30-143adb396ca3>:1: FutureWarning: You are using `torch.load` with `weights_only=False` (the current default value), which uses the default pickle module implicitly. It is possible to construct malicious pickle data which will execute arbitrary code during unpickling (See https://github.com/pytorch/pytorch/blob/main/SECURITY.md#untrusted-models for more details). In a future release, the default value for `weights_only` will be flipped to `True`. This limits the functions that could be executed during unpickling. Arbitrary objects will no longer be allowed to be loaded via this mode unless they are explicitly allowlisted by the user via `torch.serialization.add_safe_globals`. We recommend you start setting `weights_only=True` for any use case where you don't have full control of the loaded file. Please open an issue on GitHub for any issues related to this experimental feature.\n",
      "  model=torch.load('/content/drive/My Drive/Colab_Notebooks/cl2-code-switching-plm/pos_cs_model.pt').to(device)\n"
     ]
    },
    {
     "ename": "RuntimeError",
     "evalue": "CUDA error: device-side assert triggered\nCUDA kernel errors might be asynchronously reported at some other API call, so the stacktrace below might be incorrect.\nFor debugging consider passing CUDA_LAUNCH_BLOCKING=1\nCompile with `TORCH_USE_CUDA_DSA` to enable device-side assertions.\n",
     "output_type": "error",
     "traceback": [
      "\u001b[0;31m---------------------------------------------------------------------------\u001b[0m",
      "\u001b[0;31mRuntimeError\u001b[0m                              Traceback (most recent call last)",
      "\u001b[0;32m<ipython-input-30-143adb396ca3>\u001b[0m in \u001b[0;36m<cell line: 1>\u001b[0;34m()\u001b[0m\n\u001b[0;32m----> 1\u001b[0;31m \u001b[0mmodel\u001b[0m\u001b[0;34m=\u001b[0m\u001b[0mtorch\u001b[0m\u001b[0;34m.\u001b[0m\u001b[0mload\u001b[0m\u001b[0;34m(\u001b[0m\u001b[0;34m'/content/drive/My Drive/Colab_Notebooks/cl2-code-switching-plm/pos_cs_model.pt'\u001b[0m\u001b[0;34m)\u001b[0m\u001b[0;34m.\u001b[0m\u001b[0mto\u001b[0m\u001b[0;34m(\u001b[0m\u001b[0mdevice\u001b[0m\u001b[0;34m)\u001b[0m\u001b[0;34m\u001b[0m\u001b[0;34m\u001b[0m\u001b[0m\n\u001b[0m",
      "\u001b[0;32m/usr/local/lib/python3.10/dist-packages/torch/serialization.py\u001b[0m in \u001b[0;36mload\u001b[0;34m(f, map_location, pickle_module, weights_only, mmap, **pickle_load_args)\u001b[0m\n\u001b[1;32m   1358\u001b[0m                     \u001b[0;32mexcept\u001b[0m \u001b[0mpickle\u001b[0m\u001b[0;34m.\u001b[0m\u001b[0mUnpicklingError\u001b[0m \u001b[0;32mas\u001b[0m \u001b[0me\u001b[0m\u001b[0;34m:\u001b[0m\u001b[0;34m\u001b[0m\u001b[0;34m\u001b[0m\u001b[0m\n\u001b[1;32m   1359\u001b[0m                         \u001b[0;32mraise\u001b[0m \u001b[0mpickle\u001b[0m\u001b[0;34m.\u001b[0m\u001b[0mUnpicklingError\u001b[0m\u001b[0;34m(\u001b[0m\u001b[0m_get_wo_message\u001b[0m\u001b[0;34m(\u001b[0m\u001b[0mstr\u001b[0m\u001b[0;34m(\u001b[0m\u001b[0me\u001b[0m\u001b[0;34m)\u001b[0m\u001b[0;34m)\u001b[0m\u001b[0;34m)\u001b[0m \u001b[0;32mfrom\u001b[0m \u001b[0;32mNone\u001b[0m\u001b[0;34m\u001b[0m\u001b[0;34m\u001b[0m\u001b[0m\n\u001b[0;32m-> 1360\u001b[0;31m                 return _load(\n\u001b[0m\u001b[1;32m   1361\u001b[0m                     \u001b[0mopened_zipfile\u001b[0m\u001b[0;34m,\u001b[0m\u001b[0;34m\u001b[0m\u001b[0;34m\u001b[0m\u001b[0m\n\u001b[1;32m   1362\u001b[0m                     \u001b[0mmap_location\u001b[0m\u001b[0;34m,\u001b[0m\u001b[0;34m\u001b[0m\u001b[0;34m\u001b[0m\u001b[0m\n",
      "\u001b[0;32m/usr/local/lib/python3.10/dist-packages/torch/serialization.py\u001b[0m in \u001b[0;36m_load\u001b[0;34m(zip_file, map_location, pickle_module, pickle_file, overall_storage, **pickle_load_args)\u001b[0m\n\u001b[1;32m   1846\u001b[0m     \u001b[0;32mglobal\u001b[0m \u001b[0m_serialization_tls\u001b[0m\u001b[0;34m\u001b[0m\u001b[0;34m\u001b[0m\u001b[0m\n\u001b[1;32m   1847\u001b[0m     \u001b[0m_serialization_tls\u001b[0m\u001b[0;34m.\u001b[0m\u001b[0mmap_location\u001b[0m \u001b[0;34m=\u001b[0m \u001b[0mmap_location\u001b[0m\u001b[0;34m\u001b[0m\u001b[0;34m\u001b[0m\u001b[0m\n\u001b[0;32m-> 1848\u001b[0;31m     \u001b[0mresult\u001b[0m \u001b[0;34m=\u001b[0m \u001b[0munpickler\u001b[0m\u001b[0;34m.\u001b[0m\u001b[0mload\u001b[0m\u001b[0;34m(\u001b[0m\u001b[0;34m)\u001b[0m\u001b[0;34m\u001b[0m\u001b[0;34m\u001b[0m\u001b[0m\n\u001b[0m\u001b[1;32m   1849\u001b[0m     \u001b[0m_serialization_tls\u001b[0m\u001b[0;34m.\u001b[0m\u001b[0mmap_location\u001b[0m \u001b[0;34m=\u001b[0m \u001b[0;32mNone\u001b[0m\u001b[0;34m\u001b[0m\u001b[0;34m\u001b[0m\u001b[0m\n\u001b[1;32m   1850\u001b[0m \u001b[0;34m\u001b[0m\u001b[0m\n",
      "\u001b[0;32m/usr/local/lib/python3.10/dist-packages/torch/serialization.py\u001b[0m in \u001b[0;36mpersistent_load\u001b[0;34m(saved_id)\u001b[0m\n\u001b[1;32m   1810\u001b[0m         \u001b[0;32melse\u001b[0m\u001b[0;34m:\u001b[0m\u001b[0;34m\u001b[0m\u001b[0;34m\u001b[0m\u001b[0m\n\u001b[1;32m   1811\u001b[0m             \u001b[0mnbytes\u001b[0m \u001b[0;34m=\u001b[0m \u001b[0mnumel\u001b[0m \u001b[0;34m*\u001b[0m \u001b[0mtorch\u001b[0m\u001b[0;34m.\u001b[0m\u001b[0m_utils\u001b[0m\u001b[0;34m.\u001b[0m\u001b[0m_element_size\u001b[0m\u001b[0;34m(\u001b[0m\u001b[0mdtype\u001b[0m\u001b[0;34m)\u001b[0m\u001b[0;34m\u001b[0m\u001b[0;34m\u001b[0m\u001b[0m\n\u001b[0;32m-> 1812\u001b[0;31m             typed_storage = load_tensor(\n\u001b[0m\u001b[1;32m   1813\u001b[0m                 \u001b[0mdtype\u001b[0m\u001b[0;34m,\u001b[0m \u001b[0mnbytes\u001b[0m\u001b[0;34m,\u001b[0m \u001b[0mkey\u001b[0m\u001b[0;34m,\u001b[0m \u001b[0m_maybe_decode_ascii\u001b[0m\u001b[0;34m(\u001b[0m\u001b[0mlocation\u001b[0m\u001b[0;34m)\u001b[0m\u001b[0;34m\u001b[0m\u001b[0;34m\u001b[0m\u001b[0m\n\u001b[1;32m   1814\u001b[0m             )\n",
      "\u001b[0;32m/usr/local/lib/python3.10/dist-packages/torch/serialization.py\u001b[0m in \u001b[0;36mload_tensor\u001b[0;34m(dtype, numel, key, location)\u001b[0m\n\u001b[1;32m   1782\u001b[0m         \u001b[0;31m# stop wrapping with TypedStorage\u001b[0m\u001b[0;34m\u001b[0m\u001b[0;34m\u001b[0m\u001b[0m\n\u001b[1;32m   1783\u001b[0m         typed_storage = torch.storage.TypedStorage(\n\u001b[0;32m-> 1784\u001b[0;31m             \u001b[0mwrap_storage\u001b[0m\u001b[0;34m=\u001b[0m\u001b[0mrestore_location\u001b[0m\u001b[0;34m(\u001b[0m\u001b[0mstorage\u001b[0m\u001b[0;34m,\u001b[0m \u001b[0mlocation\u001b[0m\u001b[0;34m)\u001b[0m\u001b[0;34m,\u001b[0m\u001b[0;34m\u001b[0m\u001b[0;34m\u001b[0m\u001b[0m\n\u001b[0m\u001b[1;32m   1785\u001b[0m             \u001b[0mdtype\u001b[0m\u001b[0;34m=\u001b[0m\u001b[0mdtype\u001b[0m\u001b[0;34m,\u001b[0m\u001b[0;34m\u001b[0m\u001b[0;34m\u001b[0m\u001b[0m\n\u001b[1;32m   1786\u001b[0m             \u001b[0m_internal\u001b[0m\u001b[0;34m=\u001b[0m\u001b[0;32mTrue\u001b[0m\u001b[0;34m,\u001b[0m\u001b[0;34m\u001b[0m\u001b[0;34m\u001b[0m\u001b[0m\n",
      "\u001b[0;32m/usr/local/lib/python3.10/dist-packages/torch/serialization.py\u001b[0m in \u001b[0;36mdefault_restore_location\u001b[0;34m(storage, location)\u001b[0m\n\u001b[1;32m    599\u001b[0m     \"\"\"\n\u001b[1;32m    600\u001b[0m     \u001b[0;32mfor\u001b[0m \u001b[0m_\u001b[0m\u001b[0;34m,\u001b[0m \u001b[0m_\u001b[0m\u001b[0;34m,\u001b[0m \u001b[0mfn\u001b[0m \u001b[0;32min\u001b[0m \u001b[0m_package_registry\u001b[0m\u001b[0;34m:\u001b[0m\u001b[0;34m\u001b[0m\u001b[0;34m\u001b[0m\u001b[0m\n\u001b[0;32m--> 601\u001b[0;31m         \u001b[0mresult\u001b[0m \u001b[0;34m=\u001b[0m \u001b[0mfn\u001b[0m\u001b[0;34m(\u001b[0m\u001b[0mstorage\u001b[0m\u001b[0;34m,\u001b[0m \u001b[0mlocation\u001b[0m\u001b[0;34m)\u001b[0m\u001b[0;34m\u001b[0m\u001b[0;34m\u001b[0m\u001b[0m\n\u001b[0m\u001b[1;32m    602\u001b[0m         \u001b[0;32mif\u001b[0m \u001b[0mresult\u001b[0m \u001b[0;32mis\u001b[0m \u001b[0;32mnot\u001b[0m \u001b[0;32mNone\u001b[0m\u001b[0;34m:\u001b[0m\u001b[0;34m\u001b[0m\u001b[0;34m\u001b[0m\u001b[0m\n\u001b[1;32m    603\u001b[0m             \u001b[0;32mreturn\u001b[0m \u001b[0mresult\u001b[0m\u001b[0;34m\u001b[0m\u001b[0;34m\u001b[0m\u001b[0m\n",
      "\u001b[0;32m/usr/local/lib/python3.10/dist-packages/torch/serialization.py\u001b[0m in \u001b[0;36m_deserialize\u001b[0;34m(backend_name, obj, location)\u001b[0m\n\u001b[1;32m    538\u001b[0m     \u001b[0;32mif\u001b[0m \u001b[0mlocation\u001b[0m\u001b[0;34m.\u001b[0m\u001b[0mstartswith\u001b[0m\u001b[0;34m(\u001b[0m\u001b[0mbackend_name\u001b[0m\u001b[0;34m)\u001b[0m\u001b[0;34m:\u001b[0m\u001b[0;34m\u001b[0m\u001b[0;34m\u001b[0m\u001b[0m\n\u001b[1;32m    539\u001b[0m         \u001b[0mdevice\u001b[0m \u001b[0;34m=\u001b[0m \u001b[0m_validate_device\u001b[0m\u001b[0;34m(\u001b[0m\u001b[0mlocation\u001b[0m\u001b[0;34m,\u001b[0m \u001b[0mbackend_name\u001b[0m\u001b[0;34m)\u001b[0m\u001b[0;34m\u001b[0m\u001b[0;34m\u001b[0m\u001b[0m\n\u001b[0;32m--> 540\u001b[0;31m         \u001b[0;32mreturn\u001b[0m \u001b[0mobj\u001b[0m\u001b[0;34m.\u001b[0m\u001b[0mto\u001b[0m\u001b[0;34m(\u001b[0m\u001b[0mdevice\u001b[0m\u001b[0;34m=\u001b[0m\u001b[0mdevice\u001b[0m\u001b[0;34m)\u001b[0m\u001b[0;34m\u001b[0m\u001b[0;34m\u001b[0m\u001b[0m\n\u001b[0m\u001b[1;32m    541\u001b[0m \u001b[0;34m\u001b[0m\u001b[0m\n\u001b[1;32m    542\u001b[0m \u001b[0;34m\u001b[0m\u001b[0m\n",
      "\u001b[0;32m/usr/local/lib/python3.10/dist-packages/torch/storage.py\u001b[0m in \u001b[0;36mto\u001b[0;34m(self, device, non_blocking)\u001b[0m\n\u001b[1;32m    277\u001b[0m         \u001b[0mself\u001b[0m\u001b[0;34m,\u001b[0m \u001b[0;34m*\u001b[0m\u001b[0;34m,\u001b[0m \u001b[0mdevice\u001b[0m\u001b[0;34m:\u001b[0m \u001b[0mtorch\u001b[0m\u001b[0;34m.\u001b[0m\u001b[0mdevice\u001b[0m\u001b[0;34m,\u001b[0m \u001b[0mnon_blocking\u001b[0m\u001b[0;34m:\u001b[0m \u001b[0m_bool\u001b[0m \u001b[0;34m=\u001b[0m \u001b[0;32mFalse\u001b[0m\u001b[0;34m\u001b[0m\u001b[0;34m\u001b[0m\u001b[0m\n\u001b[1;32m    278\u001b[0m     ) -> Union[_StorageBase, TypedStorage]:\n\u001b[0;32m--> 279\u001b[0;31m         \u001b[0;32mreturn\u001b[0m \u001b[0m_to\u001b[0m\u001b[0;34m(\u001b[0m\u001b[0mself\u001b[0m\u001b[0;34m,\u001b[0m \u001b[0mdevice\u001b[0m\u001b[0;34m,\u001b[0m \u001b[0mnon_blocking\u001b[0m\u001b[0;34m)\u001b[0m\u001b[0;34m\u001b[0m\u001b[0;34m\u001b[0m\u001b[0m\n\u001b[0m\u001b[1;32m    280\u001b[0m \u001b[0;34m\u001b[0m\u001b[0m\n\u001b[1;32m    281\u001b[0m     \u001b[0;32mdef\u001b[0m \u001b[0mdouble\u001b[0m\u001b[0;34m(\u001b[0m\u001b[0mself\u001b[0m\u001b[0;34m)\u001b[0m\u001b[0;34m:\u001b[0m\u001b[0;34m\u001b[0m\u001b[0;34m\u001b[0m\u001b[0m\n",
      "\u001b[0;32m/usr/local/lib/python3.10/dist-packages/torch/_utils.py\u001b[0m in \u001b[0;36m_to\u001b[0;34m(self, device, non_blocking)\u001b[0m\n\u001b[1;32m     87\u001b[0m             ), f\"sparse storage is not supported for {device.type.upper()} tensors\"\n\u001b[1;32m     88\u001b[0m             \u001b[0muntyped_storage\u001b[0m \u001b[0;34m=\u001b[0m \u001b[0mtorch\u001b[0m\u001b[0;34m.\u001b[0m\u001b[0mUntypedStorage\u001b[0m\u001b[0;34m(\u001b[0m\u001b[0mself\u001b[0m\u001b[0;34m.\u001b[0m\u001b[0msize\u001b[0m\u001b[0;34m(\u001b[0m\u001b[0;34m)\u001b[0m\u001b[0;34m,\u001b[0m \u001b[0mdevice\u001b[0m\u001b[0;34m=\u001b[0m\u001b[0mdevice\u001b[0m\u001b[0;34m)\u001b[0m\u001b[0;34m\u001b[0m\u001b[0;34m\u001b[0m\u001b[0m\n\u001b[0;32m---> 89\u001b[0;31m             \u001b[0muntyped_storage\u001b[0m\u001b[0;34m.\u001b[0m\u001b[0mcopy_\u001b[0m\u001b[0;34m(\u001b[0m\u001b[0mself\u001b[0m\u001b[0;34m,\u001b[0m \u001b[0mnon_blocking\u001b[0m\u001b[0;34m)\u001b[0m\u001b[0;34m\u001b[0m\u001b[0;34m\u001b[0m\u001b[0m\n\u001b[0m\u001b[1;32m     90\u001b[0m             \u001b[0;32mreturn\u001b[0m \u001b[0muntyped_storage\u001b[0m\u001b[0;34m\u001b[0m\u001b[0;34m\u001b[0m\u001b[0m\n\u001b[1;32m     91\u001b[0m \u001b[0;34m\u001b[0m\u001b[0m\n",
      "\u001b[0;31mRuntimeError\u001b[0m: CUDA error: device-side assert triggered\nCUDA kernel errors might be asynchronously reported at some other API call, so the stacktrace below might be incorrect.\nFor debugging consider passing CUDA_LAUNCH_BLOCKING=1\nCompile with `TORCH_USE_CUDA_DSA` to enable device-side assertions.\n"
     ]
    }
   ],
   "source": [
    "#model=torch.load('/content/drive/My Drive/Colab_Notebooks/cl2-code-switching-plm/pos_cs_model.pt').to(device)"
   ]
  },
  {
   "cell_type": "code",
   "execution_count": null,
   "metadata": {
    "colab": {
     "base_uri": "https://localhost:8080/"
    },
    "id": "QFDOZtQPC3IQ",
    "outputId": "4299ac46-c1d4-4e5e-f7d0-41d8969485ce"
   },
   "outputs": [
    {
     "name": "stderr",
     "output_type": "stream",
     "text": [
      "<ipython-input-11-c800d06f92f0>:1: FutureWarning: You are using `torch.load` with `weights_only=False` (the current default value), which uses the default pickle module implicitly. It is possible to construct malicious pickle data which will execute arbitrary code during unpickling (See https://github.com/pytorch/pytorch/blob/main/SECURITY.md#untrusted-models for more details). In a future release, the default value for `weights_only` will be flipped to `True`. This limits the functions that could be executed during unpickling. Arbitrary objects will no longer be allowed to be loaded via this mode unless they are explicitly allowlisted by the user via `torch.serialization.add_safe_globals`. We recommend you start setting `weights_only=True` for any use case where you don't have full control of the loaded file. Please open an issue on GitHub for any issues related to this experimental feature.\n",
      "  model=torch.load('/content/drive/My Drive/Colab_Notebooks/cl2-code-switching-plm/pos_cs_model.pt', map_location=torch.device('cpu'))\n"
     ]
    }
   ],
   "source": [
    "model=torch.load('pos_cs_model.pt', map_location=torch.device('cpu'))"
   ]
  },
  {
   "cell_type": "code",
   "execution_count": null,
   "metadata": {
    "id": "yME5k1N5Bk88"
   },
   "outputs": [],
   "source": [
    "val_dataset = PosDataset(tokenizer, 'final-proj-dataset/pos/cs_pos/valid-parsed.conll')\n",
    "val_iter = data.DataLoader(dataset=val_dataset,\n",
    "                             batch_size=32,\n",
    "                             shuffle=False,\n",
    "                             num_workers=1,\n",
    "                             collate_fn=pad)\n",
    "\n",
    "test_dataset = PosDataset(tokenizer, 'final-proj-dataset/pos/cs_pos/test-parsed.conll')\n",
    "test_dataset.sentences = test_dataset.sentences[:1200]\n",
    "test_dataset.sentence_tags = test_dataset.sentence_tags[:1200]\n",
    "\n",
    "test_iter = data.DataLoader(dataset=test_dataset,\n",
    "                             batch_size=32,\n",
    "                             shuffle=False,\n",
    "                             num_workers=1,\n",
    "                             collate_fn=pad)"
   ]
  },
  {
   "cell_type": "code",
   "execution_count": 24,
   "metadata": {
    "colab": {
     "base_uri": "https://localhost:8080/"
    },
    "id": "r-f4JLCkGn3I",
    "outputId": "a947823c-ed09-46b4-dff7-2762cd0f4c18"
   },
   "outputs": [
    {
     "name": "stdout",
     "output_type": "stream",
     "text": [
      "Accuracy: 0.94\n"
     ]
    }
   ],
   "source": [
    "y_true, y_pred = eval(model, test_iter, test_dataset)"
   ]
  },
  {
   "cell_type": "code",
   "execution_count": 27,
   "metadata": {
    "colab": {
     "base_uri": "https://localhost:8080/",
     "height": 464
    },
    "id": "r6n5bAGE5Lb1",
    "outputId": "cf57cb47-223b-4b28-8730-eaa64d254d21"
   },
   "outputs": [
    {
     "data": {
      "text/plain": [
       "<sklearn.metrics._plot.confusion_matrix.ConfusionMatrixDisplay at 0x7ba5d4608bb0>"
      ]
     },
     "execution_count": 27,
     "metadata": {},
     "output_type": "execute_result"
    },
    {
     "data": {
      "image/png": "[encoded data removed]",
      "text/plain": [
       "<Figure size 640x480 with 2 Axes>"
      ]
     },
     "metadata": {},
     "output_type": "display_data"
    }
   ],
   "source": [
    "# confusion_matrix(y_true, y_pred, labels=list(train_dataset.tag2idx.values()))\n",
    "sklearn.metrics.ConfusionMatrixDisplay.from_predictions(y_true, y_pred, labels=list(tag2idx.values()))"
   ]
  },
  {
   "cell_type": "code",
   "execution_count": 23,
   "metadata": {
    "colab": {
     "base_uri": "https://localhost:8080/"
    },
    "collapsed": true,
    "id": "7KAub7qIu8U_",
    "outputId": "05d2e53d-b97f-4181-c43c-868bd054324c"
   },
   "outputs": [
    {
     "data": {
      "text/plain": [
       "['no INTJ INTJ',\n",
       " 'pero CONJ CONJ',\n",
       " 'yo PRON PRON',\n",
       " 're X VERB',\n",
       " '... PUNCT PUNCT',\n",
       " 'tengo VERB VERB',\n",
       " 'todavía ADV ADV',\n",
       " 'en ADP ADP',\n",
       " 'la DET DET',\n",
       " 'casa NOUN NOUN',\n",
       " 'un DET DET',\n",
       " 'sobre ADP ADV',\n",
       " 'así ADV ADV',\n",
       " '... PUNCT PUNCT',\n",
       " '',\n",
       " 'before SCONJ SCONJ',\n",
       " 'it PRON PRON',\n",
       " 'can AUX AUX',\n",
       " 'go VERB VERB',\n",
       " 'through ADP ADP',\n",
       " 'the DET DET',\n",
       " 'whole ADJ ADJ',\n",
       " 'screening NOUN NOUN',\n",
       " 'and CONJ CONJ',\n",
       " 'downtown NOUN ADJ',\n",
       " 'screens NOUN NOUN',\n",
       " 'them PRON PRON',\n",
       " 'and CONJ CONJ',\n",
       " 'everything PRON PRON',\n",
       " 'sometimes ADV ADV',\n",
       " 'three NUM NUM',\n",
       " 'times NOUN NOUN',\n",
       " 'they PRON PRON',\n",
       " 'have AUX AUX',\n",
       " 'to PART PART',\n",
       " 'do VERB VERB',\n",
       " 'it PRON PRON',\n",
       " '. PUNCT PUNCT',\n",
       " '',\n",
       " 'no INTJ ADV',\n",
       " 'es VERB VERB',\n",
       " 'que SCONJ SCONJ',\n",
       " 'a ADP ADP',\n",
       " 'mí PRON PRON',\n",
       " 'me PRON PRON',\n",
       " 'tenían VERB VERB',\n",
       " '<unintelligible> X X',\n",
       " '. PUNCT PUNCT',\n",
       " '',\n",
       " '<unintelligible> X X',\n",
       " 'con ADP ADP',\n",
       " 'esto PRON PRON',\n",
       " '. PUNCT PUNCT',\n",
       " '',\n",
       " 'ten NUM NUM',\n",
       " '? PUNCT PUNCT',\n",
       " '',\n",
       " 'da+ VERB VERB',\n",
       " '+le PRON PRON',\n",
       " 'doce NUM NUM',\n",
       " '. PUNCT PUNCT',\n",
       " '',\n",
       " 'pero CONJ CONJ',\n",
       " 'para ADP ADP',\n",
       " 'la DET DET',\n",
       " 'parte NOUN NOUN',\n",
       " 'más ADV ADV',\n",
       " 'grande ADJ ADJ',\n",
       " 'de+ ADP ADP',\n",
       " '+el DET DET',\n",
       " 'cangrejo NOUN NOUN',\n",
       " 'se PRON PRON',\n",
       " 'lo PRON PRON',\n",
       " 'sacamos VERB VERB',\n",
       " '<unintelligible> X X',\n",
       " '. PUNCT PUNCT',\n",
       " '',\n",
       " 'it PRON PRON',\n",
       " \"'s VERB AUX\",\n",
       " 'not PART PART',\n",
       " 'just ADV ADV',\n",
       " 'saying VERB VERB',\n",
       " 'that SCONJ SCONJ',\n",
       " 'you PRON PRON',\n",
       " 'have VERB VERB',\n",
       " 'three NUM NUM',\n",
       " 'thousand NUM NUM',\n",
       " '. PUNCT PUNCT',\n",
       " '',\n",
       " 'the DET DET',\n",
       " 'one NOUN NOUN',\n",
       " 'that PRON PRON',\n",
       " \"'s VERB VERB\",\n",
       " 'on ADP ADP',\n",
       " 'the DET DET',\n",
       " 'cover NOUN NOUN',\n",
       " '<unintelligible> X X',\n",
       " '. PUNCT PUNCT',\n",
       " '',\n",
       " '<unintelligible> X X']"
      ]
     },
     "execution_count": 23,
     "metadata": {},
     "output_type": "execute_result"
    }
   ],
   "source": [
    "open('result', 'r').read().splitlines()[:100]"
   ]
  },
  {
   "cell_type": "code",
   "execution_count": 22,
   "metadata": {
    "id": "Ye-jS6q-7Ljp"
   },
   "outputs": [],
   "source": [
    "MAX_LEN = 40"
   ]
  },
  {
   "cell_type": "code",
   "execution_count": null,
   "metadata": {
    "id": "Kvtm6SNU5-UR"
   },
   "outputs": [],
   "source": [
    "eng_test_dataset = PosDataset(tokenizer, 'final-proj-dataset/pos/english_pos/en-ud-tweet-test-parsed.conll')\n",
    "\n",
    "eng_test_iter = data.DataLoader(dataset=eng_test_dataset,\n",
    "                             batch_size=32,\n",
    "                             shuffle=False,\n",
    "                             num_workers=1,\n",
    "                             collate_fn=pad)"
   ]
  },
  {
   "cell_type": "code",
   "execution_count": 29,
   "metadata": {
    "colab": {
     "base_uri": "https://localhost:8080/"
    },
    "id": "BFFMC5FP6jq1",
    "outputId": "0137c63c-2130-4162-b5b4-4164d9bae6fa"
   },
   "outputs": [
    {
     "name": "stdout",
     "output_type": "stream",
     "text": [
      "Accuracy: 0.66\n"
     ]
    }
   ],
   "source": [
    "eng_y_true, eng_y_pred = eval(model, eng_test_iter, eng_test_dataset)"
   ]
  },
  {
   "cell_type": "code",
   "execution_count": 28,
   "metadata": {
    "colab": {
     "base_uri": "https://localhost:8080/"
    },
    "collapsed": true,
    "id": "6Krj2MLC4h9L",
    "outputId": "95f1529c-69fa-46b9-a4b3-b12119f4b98c"
   },
   "outputs": [
    {
     "data": {
      "text/plain": [
       "['new ADJ ADJ',\n",
       " 'unique ADJ ADJ',\n",
       " 'backpack NOUN NOUN',\n",
       " '! PUNCT PUNCT',\n",
       " 'combines VERB VERB',\n",
       " 'vintage NOUN NOUN',\n",
       " 'with ADP ADP',\n",
       " 'modern NOUN ADJ',\n",
       " '! PUNCT PUNCT',\n",
       " 'URL1283 X NOUN',\n",
       " 'via ADP NOUN',\n",
       " '@USER415 PROPN NOUN',\n",
       " '',\n",
       " 'RT X PROPN',\n",
       " '@USER767 X NOUN',\n",
       " ': PUNCT <pad>',\n",
       " 'It PRON PRON',\n",
       " \"'s AUX AUX\",\n",
       " 'been AUX VERB',\n",
       " '3 NUM NUM',\n",
       " 'years NOUN NOUN',\n",
       " 'since ADP ADP',\n",
       " 'the DET DET',\n",
       " 'release NOUN NOUN',\n",
       " 'of ADP ADP',\n",
       " 'the DET DET',\n",
       " 'music NOUN NOUN',\n",
       " 'video NOUN NOUN',\n",
       " 'of ADP ADP',\n",
       " 'Burning VERB PROPN',\n",
       " 'Desire NOUN PROPN',\n",
       " '. PUNCT PUNCT',\n",
       " 'URL637 X PROPN',\n",
       " '',\n",
       " '#openfollow X <pad>',\n",
       " 'for ADP ADP',\n",
       " 'kpopers NOUN NOUN',\n",
       " 'just ADV ADV',\n",
       " 'retweet VERB NOUN',\n",
       " '',\n",
       " 'RT X PROPN',\n",
       " '@USER526 X NOUN',\n",
       " ': PUNCT <pad>',\n",
       " 'empathy NOUN NOUN',\n",
       " '4 ADP NUM',\n",
       " 'Kesha PROPN PROPN',\n",
       " '.... PUNCT PUNCT',\n",
       " 'the DET DET',\n",
       " 'worst ADJ ADJ',\n",
       " '. PUNCT PUNCT',\n",
       " 'smh INTJ INTJ',\n",
       " 'smh INTJ INTJ',\n",
       " '.. PUNCT PUNCT',\n",
       " '💔 X PROPN',\n",
       " '',\n",
       " 'RT X PROPN',\n",
       " '@USER2128 X NOUN',\n",
       " ': PUNCT <pad>',\n",
       " 'do AUX AUX',\n",
       " \"n't PART PART\",\n",
       " 'jump VERB VERB',\n",
       " 'to ADP ADP',\n",
       " 'conclusions NOUN NOUN',\n",
       " '. PUNCT PUNCT',\n",
       " 'do AUX AUX',\n",
       " \"n't PART PART\",\n",
       " 'take VERB VERB',\n",
       " 'what PRON PRON',\n",
       " 'the DET DET',\n",
       " 'media NOUN NOUN',\n",
       " 'says VERB VERB',\n",
       " 'at ADP ADP',\n",
       " 'face NOUN NOUN',\n",
       " 'value NOUN NOUN',\n",
       " '. PUNCT PUNCT',\n",
       " 'do VERB VERB',\n",
       " 'your PRON DET',\n",
       " 'own ADJ ADJ',\n",
       " 'research NOUN NOUN',\n",
       " '& CONJ CONJ',\n",
       " 'stay VERB VERB',\n",
       " 'informed ADJ ADJ',\n",
       " '. PUNCT PUNCT',\n",
       " 'stop VERB VERB',\n",
       " 'falling VERB VERB',\n",
       " '… PUNCT NOUN',\n",
       " '',\n",
       " 'RT X PROPN',\n",
       " '@USER445 X NOUN',\n",
       " ': PUNCT <pad>',\n",
       " 'Spine NOUN PROPN',\n",
       " '- PUNCT <pad>',\n",
       " 'Chilling ADJ <pad>',\n",
       " 'Stories NOUN PROPN',\n",
       " 'of ADP ADP',\n",
       " 'Real ADJ PROPN',\n",
       " 'Life NOUN PROPN',\n",
       " 'Cannibals NOUN PROPN',\n",
       " ', PUNCT CONJ',\n",
       " 'Horrible ADJ PROPN']"
      ]
     },
     "execution_count": 28,
     "metadata": {},
     "output_type": "execute_result"
    }
   ],
   "source": [
    "open('result', 'r').read().splitlines()[:100]"
   ]
  },
  {
   "cell_type": "code",
   "execution_count": null,
   "metadata": {
    "id": "3xRnHjJg6qGH"
   },
   "outputs": [],
   "source": [
    "sp_test_dataset = PosDataset(tokenizer, 'final-proj-dataset/pos/spanish_pos/es_ancora-ud-test-parsed.conll')\n",
    "sp_test_dataset.sentences = sp_test_dataset.sentences[:1200]\n",
    "sp_test_dataset.sentence_tags = sp_test_dataset.sentence_tags[:120]\n",
    "\n",
    "sp_test_iter = data.DataLoader(dataset=sp_test_dataset,\n",
    "                             batch_size=32,\n",
    "                             shuffle=False,\n",
    "                             num_workers=1,\n",
    "                             collate_fn=pad)"
   ]
  },
  {
   "cell_type": "code",
   "execution_count": 31,
   "metadata": {
    "colab": {
     "base_uri": "https://localhost:8080/"
    },
    "id": "2u4kOA9m9FlE",
    "outputId": "5f71d797-caba-4e84-eb48-88c203a0f6a9"
   },
   "outputs": [
    {
     "name": "stdout",
     "output_type": "stream",
     "text": [
      "Accuracy: 0.91\n"
     ]
    }
   ],
   "source": [
    "sp_y_true, sp_y_pred = eval(model, sp_test_iter, sp_test_dataset)"
   ]
  },
  {
   "cell_type": "code",
   "execution_count": 35,
   "metadata": {
    "colab": {
     "base_uri": "https://localhost:8080/"
    },
    "collapsed": true,
    "id": "PaDi72DC-fez",
    "outputId": "c2eecd86-297c-4c86-a059-2c66350b5d0c"
   },
   "outputs": [
    {
     "data": {
      "text/plain": [
       "['Partidario ADJ PROPN',\n",
       " 'de ADP ADP',\n",
       " 'la DET DET',\n",
       " '\" PUNCT PUNCT',\n",
       " 'perestroika NOUN NOUN',\n",
       " '\" PUNCT PUNCT',\n",
       " 'de ADP ADP',\n",
       " 'Mijail PROPN PROPN',\n",
       " 'Gorbachov PROPN PROPN',\n",
       " 'en ADP ADP',\n",
       " 'la DET DET',\n",
       " 'Unión PROPN PROPN',\n",
       " 'Soviética PROPN PROPN',\n",
       " ', PUNCT <pad>',\n",
       " 'en ADP ADP',\n",
       " '1989 NOUN NOUN',\n",
       " 'entró VERB VERB',\n",
       " 'en ADP ADP',\n",
       " 'conflicto NOUN NOUN',\n",
       " 'con ADP ADP',\n",
       " 'Yívkov PROPN PROPN',\n",
       " ', PUNCT <pad>',\n",
       " 'líder NOUN NOUN',\n",
       " 'durante ADP ADP',\n",
       " '35 NUM NUM',\n",
       " 'años NOUN NOUN',\n",
       " 'de ADP ADP',\n",
       " 'el DET DET',\n",
       " 'Partido PROPN NOUN',\n",
       " 'Comunista PROPN PROPN',\n",
       " 'y CONJ CONJ',\n",
       " 'de ADP ADP',\n",
       " 'el DET DET',\n",
       " 'Estado PROPN NOUN',\n",
       " 'búlgaro ADJ NOUN',\n",
       " ', PUNCT <pad>',\n",
       " 'y CONJ CONJ',\n",
       " 'le PRON PRON',\n",
       " 'acusó VERB VERB',\n",
       " 'en ADP ADP',\n",
       " 'una DET DET',\n",
       " 'carta NOUN NOUN',\n",
       " 'abierta ADJ ADJ',\n",
       " 'de ADP ADP',\n",
       " 'utilizar VERB VERB',\n",
       " 'métodos NOUN NOUN',\n",
       " 'poco ADV ADV',\n",
       " 'democráticos ADJ ADJ',\n",
       " 'de ADP ADP',\n",
       " 'gobierno NOUN NOUN',\n",
       " '. PUNCT PUNCT',\n",
       " '',\n",
       " 'Días NOUN PROPN',\n",
       " 'después ADV ADV',\n",
       " ', PUNCT <pad>',\n",
       " 'el DET DET',\n",
       " '10 NUM NUM',\n",
       " 'de ADP ADP',\n",
       " 'noviembre NOUN NOUN',\n",
       " 'de ADP ADP',\n",
       " '1989 NUM NUM',\n",
       " ', PUNCT <pad>',\n",
       " 'organizó VERB VERB',\n",
       " 'junto ADJ ADJ',\n",
       " 'con ADP ADP',\n",
       " 'otros DET DET',\n",
       " 'miembros NOUN NOUN',\n",
       " 'de ADP ADP',\n",
       " 'el DET DET',\n",
       " 'Gabinete PROPN PROPN',\n",
       " 'la DET DET',\n",
       " 'destitución NOUN NOUN',\n",
       " 'de ADP ADP',\n",
       " 'Yívkov PROPN PROPN',\n",
       " ', PUNCT SCONJ',\n",
       " 'lo PRON PRON',\n",
       " 'que PRON PRON',\n",
       " 'provocó VERB VERB',\n",
       " 'la DET DET',\n",
       " 'caída NOUN NOUN',\n",
       " 'de ADP ADP',\n",
       " 'el DET DET',\n",
       " 'régimen NOUN NOUN',\n",
       " 'comunista ADJ ADJ',\n",
       " 'en ADP ADP',\n",
       " 'el DET DET',\n",
       " 'país NOUN NOUN',\n",
       " ', PUNCT <pad>',\n",
       " 'y CONJ CONJ',\n",
       " 'dos NUM NUM',\n",
       " 'meses NOUN NOUN',\n",
       " 'más ADV ADV',\n",
       " 'tarde ADV NOUN',\n",
       " 'fue AUX VERB',\n",
       " 'elegido VERB VERB',\n",
       " 'presidente NOUN NOUN',\n",
       " 'de ADP ADP',\n",
       " 'la DET DET',\n",
       " 'Bulgaria PROPN PROPN',\n",
       " 'pluripartidista ADJ NOUN']"
      ]
     },
     "execution_count": 35,
     "metadata": {},
     "output_type": "execute_result"
    }
   ],
   "source": [
    "open('result', 'r').read().splitlines()[:100]"
   ]
  },
  {
   "cell_type": "code",
   "execution_count": null,
   "metadata": {
    "id": "NxEz7BBp3TPc"
   },
   "outputs": [],
   "source": [
    "all_test_dataset = PosDataset(tokenizer, 'final-proj-dataset/pos/cs_pos/test-parsed.conll')\n",
    "all_test_dataset.sentences = all_test_dataset.sentences[:1200] + eng_test_dataset.sentences[:1200] + sp_test_dataset.sentences[:1200]\n",
    "all_test_dataset.sentence_tags = all_test_dataset.sentence_tags[:1200] + eng_test_dataset.sentence_tags[:1200] + sp_test_dataset.sentence_tags[:1200]\n",
    "\n",
    "all_test_iter = data.DataLoader(dataset=all_test_dataset,\n",
    "                             batch_size=32,\n",
    "                             shuffle=True,\n",
    "                             num_workers=1,\n",
    "                             collate_fn=pad)"
   ]
  },
  {
   "cell_type": "code",
   "execution_count": 44,
   "metadata": {
    "colab": {
     "base_uri": "https://localhost:8080/"
    },
    "id": "9lmqT0bV4Kza",
    "outputId": "33fb6a7c-46f3-45f2-84d8-8a69d9ebd1b3"
   },
   "outputs": [
    {
     "name": "stdout",
     "output_type": "stream",
     "text": [
      "Accuracy: 0.85\n"
     ]
    },
    {
     "data": {
      "text/plain": [
       "(array([14, 12, 16, ..., 16,  8,  3]), array([14, 12, 16, ..., 16,  8,  3]))"
      ]
     },
     "execution_count": 44,
     "metadata": {},
     "output_type": "execute_result"
    }
   ],
   "source": [
    "eval(model, all_test_iter, all_test_dataset)"
   ]
  },
  {
   "cell_type": "markdown",
   "metadata": {
    "id": "TJnMLU0cBXhM"
   },
   "source": [
    "#Train on Spanish:"
   ]
  },
  {
   "cell_type": "code",
   "execution_count": null,
   "metadata": {
    "colab": {
     "base_uri": "https://localhost:8080/"
    },
    "id": "zN603iBGBZQw",
    "outputId": "22964e8f-03ea-4326-8cb3-a96222faed79"
   },
   "outputs": [
    {
     "name": "stderr",
     "output_type": "stream",
     "text": [
      "Some weights of BertForTokenClassification were not initialized from the model checkpoint at bert-base-multilingual-cased and are newly initialized: ['classifier.bias', 'classifier.weight']\n",
      "You should probably TRAIN this model on a down-stream task to be able to use it for predictions and inference.\n"
     ]
    }
   ],
   "source": [
    "sp_train_dataset = PosDataset(tokenizer, 'final-proj-dataset/pos/spanish_pos/es_ancora-ud-test-parsed.conll')\n",
    "sp_train_dataset.sentences = sp_train_dataset.sentences[:1394]\n",
    "sp_train_dataset.sentence_tags = sp_train_dataset.sentence_tags[:1394]\n",
    "\n",
    "MAX_LEN = 0\n",
    "for sentence in sp_train_dataset.sentences:\n",
    "  MAX_LEN = max(MAX_LEN, len(sentence))\n",
    "\n",
    "sp_model = BertForTokenClassification.from_pretrained(\n",
    "    \"bert-base-multilingual-cased\",\n",
    "    num_labels=len(tag2idx),\n",
    "    output_attentions = False,\n",
    "    output_hidden_states = False\n",
    ")\n",
    "\n",
    "sp_train_iter = data.DataLoader(dataset=sp_train_dataset,\n",
    "                             batch_size=32,\n",
    "                             shuffle=False,\n",
    "                             collate_fn=pad)\n",
    "\n",
    "optimizer = torch.optim.Adam(sp_model.parameters(), lr = 0.0001)\n",
    "\n",
    "criterion = nn.CrossEntropyLoss(ignore_index=0)"
   ]
  },
  {
   "cell_type": "code",
   "execution_count": 35,
   "metadata": {
    "colab": {
     "base_uri": "https://localhost:8080/"
    },
    "id": "QU2lEKPnCJbx",
    "outputId": "b1b62239-ee3d-422d-90f2-c2eb31c05882"
   },
   "outputs": [
    {
     "name": "stdout",
     "output_type": "stream",
     "text": [
      "step: 0, loss: 2.976341962814331\n",
      "Average train loss: 0.4016522863795134\n",
      "step: 0, loss: 0.05591490864753723\n",
      "Average train loss: 0.03202993511645631\n",
      "step: 0, loss: 0.03342919796705246\n",
      "Average train loss: 0.01938403171317821\n",
      "step: 0, loss: 0.01945042423903942\n",
      "Average train loss: 0.013461600946770473\n",
      "step: 0, loss: 0.02049228921532631\n",
      "Average train loss: 0.008759545903144912\n",
      "step: 0, loss: 0.00820594560354948\n",
      "Average train loss: 0.005867783273887736\n",
      "step: 0, loss: 0.009924406185746193\n",
      "Average train loss: 0.004851617556679147\n",
      "step: 0, loss: 0.008818277157843113\n",
      "Average train loss: 0.004551126273740506\n",
      "step: 0, loss: 0.004082982894033194\n",
      "Average train loss: 0.00329838735871652\n",
      "step: 0, loss: 0.00354674831032753\n",
      "Average train loss: 0.004380739749070595\n"
     ]
    }
   ],
   "source": [
    "train(sp_model, sp_train_iter, optimizer, criterion, num_epochs, max_grad_norm)"
   ]
  },
  {
   "cell_type": "code",
   "execution_count": null,
   "metadata": {
    "id": "ZwtjpTDclFXp"
   },
   "outputs": [],
   "source": [
    "#torch.save(sp_model,'pos_sp_model.pt')"
   ]
  },
  {
   "cell_type": "code",
   "execution_count": null,
   "metadata": {
    "colab": {
     "base_uri": "https://localhost:8080/"
    },
    "id": "i8SAAa0tlcSJ",
    "outputId": "e13e16a4-0ecf-491f-b084-514cbfd36f41"
   },
   "outputs": [
    {
     "name": "stderr",
     "output_type": "stream",
     "text": [
      "<ipython-input-18-d090bd64211a>:1: FutureWarning: You are using `torch.load` with `weights_only=False` (the current default value), which uses the default pickle module implicitly. It is possible to construct malicious pickle data which will execute arbitrary code during unpickling (See https://github.com/pytorch/pytorch/blob/main/SECURITY.md#untrusted-models for more details). In a future release, the default value for `weights_only` will be flipped to `True`. This limits the functions that could be executed during unpickling. Arbitrary objects will no longer be allowed to be loaded via this mode unless they are explicitly allowlisted by the user via `torch.serialization.add_safe_globals`. We recommend you start setting `weights_only=True` for any use case where you don't have full control of the loaded file. Please open an issue on GitHub for any issues related to this experimental feature.\n",
      "  sp_model=torch.load('/content/drive/My Drive/Colab_Notebooks/cl2-code-switching-plm/pos_sp_model.pt').to(device)\n"
     ]
    }
   ],
   "source": [
    "sp_model=torch.load('pos_sp_model.pt').to(device)"
   ]
  },
  {
   "cell_type": "code",
   "execution_count": null,
   "metadata": {
    "id": "7yNWBS4SF-Zx"
   },
   "outputs": [],
   "source": [
    "sp_val_dataset = PosDataset(tokenizer, 'final-proj-dataset/pos/spanish_pos/es_ancora-ud-valid-parsed.conll')\n",
    "\n",
    "sp_valid_iter = data.DataLoader(dataset=sp_val_dataset,\n",
    "                             batch_size=32,\n",
    "                             shuffle=False,\n",
    "                             num_workers=1,\n",
    "                             collate_fn=pad)"
   ]
  },
  {
   "cell_type": "code",
   "execution_count": 38,
   "metadata": {
    "colab": {
     "base_uri": "https://localhost:8080/"
    },
    "collapsed": true,
    "id": "vdehsCYyGNSa",
    "outputId": "13502da6-f135-42d6-cb15-5b86b9c60cc3"
   },
   "outputs": [
    {
     "name": "stdout",
     "output_type": "stream",
     "text": [
      "Accuracy: 0.98\n"
     ]
    },
    {
     "data": {
      "text/plain": [
       "(array([13,  2,  9, ...,  9,  3,  3]), array([13,  2,  9, ...,  9,  3,  3]))"
      ]
     },
     "execution_count": 38,
     "metadata": {},
     "output_type": "execute_result"
    }
   ],
   "source": [
    "eval(sp_model, sp_valid_iter,sp_val_dataset)"
   ]
  },
  {
   "cell_type": "code",
   "execution_count": null,
   "metadata": {
    "colab": {
     "base_uri": "https://localhost:8080/"
    },
    "id": "PbkNiqyEfOhj",
    "outputId": "cca1f2ec-cb0d-4767-df9f-3c84a2a0b4f0"
   },
   "outputs": [
    {
     "name": "stdout",
     "output_type": "stream",
     "text": [
      "Accuracy: 1.00\n"
     ]
    },
    {
     "data": {
      "text/plain": [
       "(array([16, 14, 12, ...,  8, 16,  3]), array([16, 14, 12, ...,  8, 16,  3]))"
      ]
     },
     "execution_count": 39,
     "metadata": {},
     "output_type": "execute_result"
    }
   ],
   "source": [
    "sp_test_dataset = PosDataset(tokenizer, 'final-proj-dataset/pos/spanish_pos/es_ancora-ud-test-parsed.conll')\n",
    "sp_test_dataset.sentences = sp_test_dataset.sentences[:1200]\n",
    "sp_test_dataset.sentence_tags = sp_test_dataset.sentence_tags[:1200]\n",
    "\n",
    "sp_test_iter = data.DataLoader(dataset=sp_test_dataset,\n",
    "                             batch_size=32,\n",
    "                             shuffle=False,\n",
    "                             num_workers=1,\n",
    "                             collate_fn=pad)\n",
    "\n",
    "eval(sp_model, sp_test_iter,sp_test_dataset)"
   ]
  },
  {
   "cell_type": "code",
   "execution_count": 22,
   "metadata": {
    "colab": {
     "base_uri": "https://localhost:8080/"
    },
    "collapsed": true,
    "id": "AlX4jzh-GbQY",
    "outputId": "3876f3f7-3c98-4b94-c469-1a91f5413598"
   },
   "outputs": [
    {
     "data": {
      "text/plain": [
       "['Partidario ADJ NOUN',\n",
       " 'de ADP DET',\n",
       " 'la DET ADJ',\n",
       " '\" PUNCT INTJ',\n",
       " 'perestroika NOUN ADP',\n",
       " '\" PUNCT INTJ',\n",
       " 'de ADP DET',\n",
       " 'Mijail PROPN SCONJ',\n",
       " 'Gorbachov PROPN SCONJ',\n",
       " 'en ADP DET',\n",
       " 'la DET ADJ',\n",
       " 'Unión PROPN SCONJ',\n",
       " 'Soviética PROPN SCONJ',\n",
       " ', PUNCT INTJ',\n",
       " 'en ADP DET',\n",
       " '1989 NOUN ADP',\n",
       " 'entró VERB VERB',\n",
       " 'en ADP DET',\n",
       " 'conflicto NOUN ADP',\n",
       " 'con ADP DET',\n",
       " 'Yívkov PROPN SCONJ',\n",
       " ', PUNCT INTJ',\n",
       " 'líder NOUN ADP',\n",
       " 'durante ADP DET',\n",
       " '35 NUM ADV',\n",
       " 'años NOUN ADP',\n",
       " 'de ADP DET',\n",
       " 'el DET ADJ',\n",
       " 'Partido PROPN SCONJ',\n",
       " 'Comunista PROPN SCONJ',\n",
       " 'y CONJ PART',\n",
       " 'de ADP DET',\n",
       " 'el DET ADJ',\n",
       " 'Estado PROPN SCONJ',\n",
       " 'búlgaro ADJ NOUN',\n",
       " ', PUNCT INTJ',\n",
       " 'y CONJ PART',\n",
       " 'le PRON AUX',\n",
       " 'acusó VERB VERB',\n",
       " 'en ADP DET',\n",
       " 'una DET ADJ',\n",
       " 'carta NOUN ADP',\n",
       " 'abierta ADJ NOUN',\n",
       " 'de ADP DET',\n",
       " 'utilizar VERB VERB',\n",
       " 'métodos NOUN ADP',\n",
       " 'poco ADV PROPN',\n",
       " 'democráticos ADJ NOUN',\n",
       " 'de ADP DET',\n",
       " 'gobierno NOUN ADP',\n",
       " '. PUNCT INTJ',\n",
       " '',\n",
       " 'Días NOUN ADP',\n",
       " 'después ADV PROPN',\n",
       " ', PUNCT INTJ',\n",
       " 'el DET ADJ',\n",
       " '10 NUM ADV',\n",
       " 'de ADP DET',\n",
       " 'noviembre NOUN ADP',\n",
       " 'de ADP DET',\n",
       " '1989 NUM ADV',\n",
       " ', PUNCT INTJ',\n",
       " 'organizó VERB VERB',\n",
       " 'junto ADJ NOUN',\n",
       " 'con ADP DET',\n",
       " 'otros DET ADJ',\n",
       " 'miembros NOUN ADP',\n",
       " 'de ADP DET',\n",
       " 'el DET ADJ',\n",
       " 'Gabinete PROPN SCONJ',\n",
       " 'la DET ADJ',\n",
       " 'destitución NOUN ADP',\n",
       " 'de ADP DET',\n",
       " 'Yívkov PROPN SCONJ',\n",
       " ', PUNCT INTJ',\n",
       " 'lo PRON AUX',\n",
       " 'que PRON AUX',\n",
       " 'provocó VERB VERB',\n",
       " 'la DET ADJ',\n",
       " 'caída NOUN ADP',\n",
       " 'de ADP DET',\n",
       " 'el DET ADJ',\n",
       " 'régimen NOUN ADP',\n",
       " 'comunista ADJ NOUN',\n",
       " 'en ADP DET',\n",
       " 'el DET ADJ',\n",
       " 'país NOUN ADP',\n",
       " ', PUNCT INTJ',\n",
       " 'y CONJ PART',\n",
       " 'dos NUM ADV',\n",
       " 'meses NOUN ADP',\n",
       " 'más ADV PROPN',\n",
       " 'tarde ADV PROPN',\n",
       " 'fue AUX X',\n",
       " 'elegido VERB VERB',\n",
       " 'presidente NOUN ADP',\n",
       " 'de ADP DET',\n",
       " 'la DET ADJ',\n",
       " 'Bulgaria PROPN SCONJ',\n",
       " 'pluripartidista ADJ NOUN']"
      ]
     },
     "execution_count": 22,
     "metadata": {},
     "output_type": "execute_result"
    }
   ],
   "source": [
    "open('result', 'r').read().splitlines()[:100]"
   ]
  },
  {
   "cell_type": "code",
   "execution_count": null,
   "metadata": {
    "id": "XQODur44f-1a"
   },
   "outputs": [],
   "source": [
    "eng_test_dataset = PosDataset(tokenizer, 'final-proj-dataset/pos/english_pos/en-ud-tweet-test-parsed.conll')\n",
    "eng_test_dataset.sentences = eng_test_dataset.sentences[:1200]\n",
    "eng_test_dataset.sentence_tags = eng_test_dataset.sentence_tags[:1200]\n",
    "\n",
    "eng_test_iter = data.DataLoader(dataset=eng_test_dataset,\n",
    "                             batch_size=32,\n",
    "                             shuffle=False,\n",
    "                             num_workers=1,\n",
    "                             collate_fn=pad)"
   ]
  },
  {
   "cell_type": "code",
   "execution_count": 42,
   "metadata": {
    "colab": {
     "base_uri": "https://localhost:8080/"
    },
    "id": "lklt_P40gGGG",
    "outputId": "e05e8761-d7c6-46ba-b2cf-98f5e70b11e8"
   },
   "outputs": [
    {
     "name": "stdout",
     "output_type": "stream",
     "text": [
      "Accuracy: 0.66\n"
     ]
    },
    {
     "data": {
      "text/plain": [
       "(array([16, 16,  8, ...,  3,  0,  3]), array([16, 16,  8, ...,  3, 13,  3]))"
      ]
     },
     "execution_count": 42,
     "metadata": {},
     "output_type": "execute_result"
    }
   ],
   "source": [
    "eval(sp_model, eng_test_iter, eng_test_dataset)"
   ]
  },
  {
   "cell_type": "code",
   "execution_count": 46,
   "metadata": {
    "colab": {
     "base_uri": "https://localhost:8080/"
    },
    "id": "R7PAzNfRghtB",
    "outputId": "054b285e-180a-4f79-92a7-04ecfdfe4e99"
   },
   "outputs": [
    {
     "name": "stdout",
     "output_type": "stream",
     "text": [
      "Accuracy: 0.79\n"
     ]
    },
    {
     "data": {
      "text/plain": [
       "(array([ 7,  5,  6, ..., 11,  0,  3]), array([15,  5,  6, ..., 11,  3,  3]))"
      ]
     },
     "execution_count": 46,
     "metadata": {},
     "output_type": "execute_result"
    }
   ],
   "source": [
    "eval(sp_model, test_iter, test_dataset)"
   ]
  },
  {
   "cell_type": "code",
   "execution_count": 47,
   "metadata": {
    "colab": {
     "base_uri": "https://localhost:8080/"
    },
    "id": "DVzlTEZMEC3U",
    "outputId": "a124e118-651d-4d72-82da-8a3b160f8467"
   },
   "outputs": [
    {
     "name": "stdout",
     "output_type": "stream",
     "text": [
      "Accuracy: 0.87\n"
     ]
    },
    {
     "data": {
      "text/plain": [
       "(array([ 0,  0,  3, ...,  8, 16,  3]), array([13,  4,  3, ...,  8, 16,  3]))"
      ]
     },
     "execution_count": 47,
     "metadata": {},
     "output_type": "execute_result"
    }
   ],
   "source": [
    "eval(sp_model, all_test_iter, all_test_dataset)"
   ]
  },
  {
   "cell_type": "markdown",
   "metadata": {
    "id": "unfSsryChfsR"
   },
   "source": [
    "#Train on English"
   ]
  },
  {
   "cell_type": "code",
   "execution_count": null,
   "metadata": {
    "colab": {
     "base_uri": "https://localhost:8080/"
    },
    "id": "EbEMno4HhhW1",
    "outputId": "c0a86865-105e-48af-9684-8e64a367c0da"
   },
   "outputs": [
    {
     "name": "stderr",
     "output_type": "stream",
     "text": [
      "Some weights of BertForTokenClassification were not initialized from the model checkpoint at bert-base-multilingual-cased and are newly initialized: ['classifier.bias', 'classifier.weight']\n",
      "You should probably TRAIN this model on a down-stream task to be able to use it for predictions and inference.\n"
     ]
    }
   ],
   "source": [
    "eng_train_dataset = PosDataset(tokenizer, 'final-proj-dataset/pos/english_pos/en-ud-tweet-train-parsed.conll')\n",
    "\n",
    "MAX_LEN = 0\n",
    "for sentence in eng_train_dataset.sentences:\n",
    "  MAX_LEN = max(MAX_LEN, len(sentence))\n",
    "\n",
    "eng_model = BertForTokenClassification.from_pretrained(\n",
    "    \"bert-base-multilingual-cased\",\n",
    "    num_labels=len(tag2idx),\n",
    "    output_attentions = False,\n",
    "    output_hidden_states = False\n",
    ")\n",
    "\n",
    "eng_train_iter = data.DataLoader(dataset=eng_train_dataset,\n",
    "                             batch_size=32,\n",
    "                             shuffle=False,\n",
    "                             collate_fn=pad)\n",
    "\n",
    "optimizer = torch.optim.Adam(eng_model.parameters(), lr = 0.0001)\n",
    "\n",
    "criterion = nn.CrossEntropyLoss(ignore_index=0)"
   ]
  },
  {
   "cell_type": "code",
   "execution_count": 49,
   "metadata": {
    "colab": {
     "base_uri": "https://localhost:8080/"
    },
    "id": "aGI6eCUChy7g",
    "outputId": "fb9f9fb5-b7dc-41d0-c76e-4c228a76b7f4"
   },
   "outputs": [
    {
     "name": "stdout",
     "output_type": "stream",
     "text": [
      "step: 0, loss: 2.9363198280334473\n",
      "Average train loss: 0.584618547253988\n",
      "step: 0, loss: 0.21055299043655396\n",
      "Average train loss: 0.10238624262538823\n",
      "step: 0, loss: 0.09227057546377182\n",
      "Average train loss: 0.05505565964532169\n",
      "step: 0, loss: 0.06758087128400803\n",
      "Average train loss: 0.03838750290345739\n",
      "step: 0, loss: 0.041251298040151596\n",
      "Average train loss: 0.02954337946985933\n",
      "step: 0, loss: 0.03004319779574871\n",
      "Average train loss: 0.021215213970704513\n",
      "step: 0, loss: 0.027454275637865067\n",
      "Average train loss: 0.01668272647922012\n",
      "step: 0, loss: 0.019476301968097687\n",
      "Average train loss: 0.01409195412204347\n",
      "step: 0, loss: 0.020529240369796753\n",
      "Average train loss: 0.010345468562181022\n",
      "step: 0, loss: 0.011336294002830982\n",
      "Average train loss: 0.00792275814720514\n"
     ]
    }
   ],
   "source": [
    "train(eng_model, eng_train_iter, optimizer, criterion, num_epochs, max_grad_norm)"
   ]
  },
  {
   "cell_type": "code",
   "execution_count": null,
   "metadata": {
    "id": "akC5g86_k88M"
   },
   "outputs": [],
   "source": [
    "#torch.save(eng_model,'pos_eng_model.pt')"
   ]
  },
  {
   "cell_type": "code",
   "execution_count": null,
   "metadata": {
    "id": "zqXHRxPylggg"
   },
   "outputs": [],
   "source": [
    "eng_model=torch.load('/content/drive/My Drive/Colab_Notebooks/cl2-code-switching-plm/pos_eng_model.pt').to(device)"
   ]
  },
  {
   "cell_type": "code",
   "execution_count": null,
   "metadata": {
    "id": "ewwe0FWyidM7"
   },
   "outputs": [],
   "source": [
    "eng_val_dataset = PosDataset(tokenizer, 'final-proj-dataset/pos/english_pos/en-ud-tweet-valid-parsed.conll')\n",
    "\n",
    "eng_val_iter = data.DataLoader(dataset=eng_val_dataset,\n",
    "                             batch_size=32,\n",
    "                             shuffle=False,\n",
    "                             num_workers=1,\n",
    "                             collate_fn=pad)\n",
    "\n",
    "# eng_test_dataset = PosDataset(tokenizer, '/content/drive/My Drive/Colab_Notebooks/cl2-code-switching-plm/final-proj-dataset/pos/english_pos/en-ud-tweet-test-parsed.conll')\n",
    "# eng_test_dataset.tag2idx = eng_train_dataset.tag2idx\n",
    "# eng_test_dataset.idx2tag = eng_train_dataset.idx2tag\n",
    "\n",
    "# eng_test_iter = data.DataLoader(dataset=eng_test_dataset,\n",
    "#                              batch_size=32,\n",
    "#                              shuffle=False,\n",
    "#                              num_workers=1,\n",
    "#                              collate_fn=pad)"
   ]
  },
  {
   "cell_type": "code",
   "execution_count": 51,
   "metadata": {
    "colab": {
     "base_uri": "https://localhost:8080/"
    },
    "id": "EstqoRSEjVw_",
    "outputId": "76605955-3c16-49e1-9a76-aa14d63034ed"
   },
   "outputs": [
    {
     "name": "stdout",
     "output_type": "stream",
     "text": [
      "Accuracy: 0.93\n"
     ]
    },
    {
     "data": {
      "text/plain": [
       "(array([13,  9,  3, ...,  8,  8,  3]), array([13,  9,  3, ..., 13,  8,  3]))"
      ]
     },
     "execution_count": 51,
     "metadata": {},
     "output_type": "execute_result"
    }
   ],
   "source": [
    "eval(eng_model, eng_val_iter, eng_val_dataset)"
   ]
  },
  {
   "cell_type": "code",
   "execution_count": 52,
   "metadata": {
    "colab": {
     "base_uri": "https://localhost:8080/"
    },
    "id": "Wy-3xA4_jcSL",
    "outputId": "dbc0c112-28b0-4f67-8a46-02496f0288eb"
   },
   "outputs": [
    {
     "name": "stdout",
     "output_type": "stream",
     "text": [
      "Accuracy: 0.93\n"
     ]
    },
    {
     "data": {
      "text/plain": [
       "(array([16, 16,  8, ...,  3,  0,  3]), array([16, 16,  8, ...,  3,  0,  3]))"
      ]
     },
     "execution_count": 52,
     "metadata": {},
     "output_type": "execute_result"
    }
   ],
   "source": [
    "eval(eng_model, eng_test_iter, eng_test_dataset)"
   ]
  },
  {
   "cell_type": "code",
   "execution_count": 54,
   "metadata": {
    "colab": {
     "base_uri": "https://localhost:8080/"
    },
    "id": "nOkmFBIEjhfm",
    "outputId": "4d49597f-8f71-445a-8b90-b5da208c84c9"
   },
   "outputs": [
    {
     "name": "stdout",
     "output_type": "stream",
     "text": [
      "Accuracy: 0.87\n"
     ]
    },
    {
     "data": {
      "text/plain": [
       "(array([16, 14, 12, ...,  8, 16,  3]), array([ 8, 14, 12, ...,  8,  9,  3]))"
      ]
     },
     "execution_count": 54,
     "metadata": {},
     "output_type": "execute_result"
    }
   ],
   "source": [
    "eval(eng_model, sp_test_iter, sp_test_dataset)"
   ]
  },
  {
   "cell_type": "code",
   "execution_count": 38,
   "metadata": {
    "colab": {
     "base_uri": "https://localhost:8080/"
    },
    "collapsed": true,
    "id": "R47CnejVj2nO",
    "outputId": "252286d1-ab3b-48d5-9835-66f98b4724ae"
   },
   "outputs": [
    {
     "data": {
      "text/plain": [
       "['Partidario ADJ NOUN',\n",
       " 'de ADP ADP',\n",
       " 'la DET DET',\n",
       " '\" PUNCT PUNCT',\n",
       " 'perestroika NOUN NOUN',\n",
       " '\" PUNCT PUNCT',\n",
       " 'de ADP ADP',\n",
       " 'Mijail PROPN PROPN',\n",
       " 'Gorbachov PROPN PROPN',\n",
       " 'en ADP ADP',\n",
       " 'la DET DET',\n",
       " 'Unión PROPN PROPN',\n",
       " 'Soviética PROPN PROPN',\n",
       " ', PUNCT PUNCT',\n",
       " 'en ADP ADP',\n",
       " '1989 NOUN NUM',\n",
       " 'entró VERB VERB',\n",
       " 'en ADP ADP',\n",
       " 'conflicto NOUN NOUN',\n",
       " 'con ADP ADP',\n",
       " 'Yívkov PROPN PROPN',\n",
       " ', PUNCT PUNCT',\n",
       " 'líder NOUN NOUN',\n",
       " 'durante ADP ADP',\n",
       " '35 NUM NUM',\n",
       " 'años NOUN NOUN',\n",
       " 'de ADP ADP',\n",
       " 'el DET DET',\n",
       " 'Partido PROPN PROPN',\n",
       " 'Comunista PROPN PROPN',\n",
       " 'y CONJ CONJ',\n",
       " 'de ADP ADP',\n",
       " 'el DET DET',\n",
       " 'Estado PROPN PROPN',\n",
       " 'búlgaro ADJ PROPN',\n",
       " ', PUNCT PUNCT',\n",
       " 'y CONJ CONJ',\n",
       " 'le PRON PRON',\n",
       " 'acusó VERB VERB',\n",
       " 'en ADP ADP',\n",
       " 'una DET DET',\n",
       " 'carta NOUN NOUN',\n",
       " 'abierta ADJ ADJ',\n",
       " 'de ADP PART',\n",
       " 'utilizar VERB VERB',\n",
       " 'métodos NOUN NOUN',\n",
       " 'poco ADV ADV',\n",
       " 'democráticos ADJ ADJ',\n",
       " 'de ADP ADP',\n",
       " 'gobierno NOUN NOUN',\n",
       " '. PUNCT PUNCT',\n",
       " '',\n",
       " 'Días NOUN NOUN',\n",
       " 'después ADV ADV',\n",
       " ', PUNCT PUNCT',\n",
       " 'el DET DET',\n",
       " '10 NUM NUM',\n",
       " 'de ADP <pad>',\n",
       " 'noviembre NOUN NUM',\n",
       " 'de ADP PUNCT',\n",
       " '1989 NUM NUM',\n",
       " ', PUNCT PUNCT',\n",
       " 'organizó VERB VERB',\n",
       " 'junto ADJ ADV',\n",
       " 'con ADP ADP',\n",
       " 'otros DET ADJ',\n",
       " 'miembros NOUN NOUN',\n",
       " 'de ADP ADP',\n",
       " 'el DET DET',\n",
       " 'Gabinete PROPN NOUN',\n",
       " 'la DET DET',\n",
       " 'destitución NOUN NOUN',\n",
       " 'de ADP ADP',\n",
       " 'Yívkov PROPN PROPN',\n",
       " ', PUNCT PUNCT',\n",
       " 'lo PRON PRON',\n",
       " 'que PRON PRON',\n",
       " 'provocó VERB VERB',\n",
       " 'la DET DET',\n",
       " 'caída NOUN NOUN',\n",
       " 'de ADP ADP',\n",
       " 'el DET DET',\n",
       " 'régimen NOUN NOUN',\n",
       " 'comunista ADJ ADJ',\n",
       " 'en ADP ADP',\n",
       " 'el DET DET',\n",
       " 'país NOUN NOUN',\n",
       " ', PUNCT PUNCT',\n",
       " 'y CONJ CONJ',\n",
       " 'dos NUM NUM',\n",
       " 'meses NOUN NOUN',\n",
       " 'más ADV ADV',\n",
       " 'tarde ADV ADV',\n",
       " 'fue AUX AUX',\n",
       " 'elegido VERB VERB',\n",
       " 'presidente NOUN NOUN',\n",
       " 'de ADP ADP',\n",
       " 'la DET DET',\n",
       " 'Bulgaria PROPN PROPN',\n",
       " 'pluripartidista ADJ ADJ']"
      ]
     },
     "execution_count": 38,
     "metadata": {},
     "output_type": "execute_result"
    }
   ],
   "source": [
    "open('result', 'r').read().splitlines()[:100]"
   ]
  },
  {
   "cell_type": "code",
   "execution_count": 55,
   "metadata": {
    "colab": {
     "base_uri": "https://localhost:8080/"
    },
    "id": "JtTQN7kqkYBe",
    "outputId": "cafca506-21f7-43ac-966f-3e5ddbb79a83"
   },
   "outputs": [
    {
     "name": "stdout",
     "output_type": "stream",
     "text": [
      "Accuracy: 0.81\n"
     ]
    },
    {
     "data": {
      "text/plain": [
       "(array([ 7,  5,  6, ..., 11,  0,  3]), array([ 7,  5,  6, ..., 11,  3,  4]))"
      ]
     },
     "execution_count": 55,
     "metadata": {},
     "output_type": "execute_result"
    }
   ],
   "source": [
    "eval(eng_model, test_iter, test_dataset)"
   ]
  },
  {
   "cell_type": "code",
   "execution_count": 56,
   "metadata": {
    "colab": {
     "base_uri": "https://localhost:8080/"
    },
    "id": "q3k9B0rEGLFC",
    "outputId": "af445b03-fdb4-4df4-e7c4-f3b1e5915308"
   },
   "outputs": [
    {
     "name": "stdout",
     "output_type": "stream",
     "text": [
      "Accuracy: 0.88\n"
     ]
    },
    {
     "data": {
      "text/plain": [
       "(array([15, 14,  6, ...,  9,  6,  0]), array([14, 14,  6, ...,  9,  6,  3]))"
      ]
     },
     "execution_count": 56,
     "metadata": {},
     "output_type": "execute_result"
    }
   ],
   "source": [
    "eval(eng_model, all_test_iter, all_test_dataset)"
   ]
  },
  {
   "cell_type": "markdown",
   "metadata": {
    "id": "EQNV-DT4kp9-"
   },
   "source": [
    "#Train on bilingual"
   ]
  },
  {
   "cell_type": "code",
   "execution_count": 57,
   "metadata": {
    "colab": {
     "base_uri": "https://localhost:8080/"
    },
    "id": "SVU9Lpb8krt2",
    "outputId": "a03962b8-01de-4234-bee2-c2fe22837012"
   },
   "outputs": [
    {
     "name": "stderr",
     "output_type": "stream",
     "text": [
      "Some weights of BertForTokenClassification were not initialized from the model checkpoint at bert-base-multilingual-cased and are newly initialized: ['classifier.bias', 'classifier.weight']\n",
      "You should probably TRAIN this model on a down-stream task to be able to use it for predictions and inference.\n"
     ]
    }
   ],
   "source": [
    "bi_train_dataset = eng_train_dataset\n",
    "bi_train_dataset.sentences = bi_train_dataset.sentences[:697] + sp_train_dataset.sentences[:697]\n",
    "bi_train_dataset.sentence_tags = bi_train_dataset.sentence_tags[:697] + sp_train_dataset.sentence_tags[:697]\n",
    "\n",
    "bi_train_iter = data.DataLoader(dataset=bi_train_dataset,\n",
    "                             batch_size=32,\n",
    "                             shuffle=True,\n",
    "                              num_workers=1,\n",
    "                             collate_fn=pad)\n",
    "\n",
    "MAX_LEN = 0\n",
    "for sentence in bi_train_dataset.sentences:\n",
    "  MAX_LEN = max(MAX_LEN, len(sentence))\n",
    "\n",
    "bi_model = BertForTokenClassification.from_pretrained(\n",
    "    \"bert-base-multilingual-cased\",\n",
    "    num_labels=len(tag2idx),\n",
    "    output_attentions = False,\n",
    "    output_hidden_states = False\n",
    ")\n",
    "\n",
    "optimizer = torch.optim.Adam(bi_model.parameters(), lr = 0.0001)"
   ]
  },
  {
   "cell_type": "code",
   "execution_count": 58,
   "metadata": {
    "colab": {
     "base_uri": "https://localhost:8080/"
    },
    "id": "GUy4furcqZSF",
    "outputId": "0430a21c-7da4-44f3-fd6c-c53d49e18e00"
   },
   "outputs": [
    {
     "name": "stdout",
     "output_type": "stream",
     "text": [
      "step: 0, loss: 2.9922268390655518\n",
      "Average train loss: 0.44177369434725156\n",
      "step: 0, loss: 0.0840005874633789\n",
      "Average train loss: 0.05068235687742179\n",
      "step: 0, loss: 0.02316666953265667\n",
      "Average train loss: 0.028420089998028496\n",
      "step: 0, loss: 0.01295404601842165\n",
      "Average train loss: 0.017174196461300282\n",
      "step: 0, loss: 0.017332367599010468\n",
      "Average train loss: 0.013366076994729652\n",
      "step: 0, loss: 0.016111254692077637\n",
      "Average train loss: 0.009455931277691641\n",
      "step: 0, loss: 0.006137061398476362\n",
      "Average train loss: 0.007395991626915268\n",
      "step: 0, loss: 0.0032341862097382545\n",
      "Average train loss: 0.005195107948648828\n",
      "step: 0, loss: 0.007112639956176281\n",
      "Average train loss: 0.005342379365836016\n",
      "step: 0, loss: 0.0048830281011760235\n",
      "Average train loss: 0.005105995157712393\n"
     ]
    }
   ],
   "source": [
    "train(bi_model, bi_train_iter, optimizer, criterion, num_epochs, max_grad_norm)"
   ]
  },
  {
   "cell_type": "code",
   "execution_count": null,
   "metadata": {
    "id": "am9JTEujsAvP"
   },
   "outputs": [],
   "source": [
    "#torch.save(bi_model,'pos_bi_model.pt')"
   ]
  },
  {
   "cell_type": "code",
   "execution_count": 59,
   "metadata": {
    "colab": {
     "base_uri": "https://localhost:8080/"
    },
    "id": "qUe5UPDBsDpW",
    "outputId": "b9bf3a99-a0bc-4960-e385-e2eac7dac2ea"
   },
   "outputs": [
    {
     "name": "stdout",
     "output_type": "stream",
     "text": [
      "Accuracy: 0.91\n"
     ]
    },
    {
     "data": {
      "text/plain": [
       "(array([16, 16,  8, ...,  3,  0,  3]), array([16, 16,  8, ...,  3,  0,  3]))"
      ]
     },
     "execution_count": 59,
     "metadata": {},
     "output_type": "execute_result"
    }
   ],
   "source": [
    "eval(bi_model, eng_test_iter, eng_test_dataset)"
   ]
  },
  {
   "cell_type": "code",
   "execution_count": 60,
   "metadata": {
    "colab": {
     "base_uri": "https://localhost:8080/"
    },
    "id": "7Xkl3RCmseaJ",
    "outputId": "72556dbc-5b04-468b-dd7f-2600ee5bba32"
   },
   "outputs": [
    {
     "name": "stdout",
     "output_type": "stream",
     "text": [
      "Accuracy: 0.99\n"
     ]
    },
    {
     "data": {
      "text/plain": [
       "(array([16, 14, 12, ...,  8, 16,  3]), array([16, 14, 12, ...,  8, 16,  3]))"
      ]
     },
     "execution_count": 60,
     "metadata": {},
     "output_type": "execute_result"
    }
   ],
   "source": [
    "eval(bi_model, sp_test_iter, sp_test_dataset)"
   ]
  },
  {
   "cell_type": "code",
   "execution_count": 61,
   "metadata": {
    "colab": {
     "base_uri": "https://localhost:8080/"
    },
    "id": "A2w0Geb3s0XT",
    "outputId": "9bb9b224-7d2e-41d2-a981-6d011a406a33"
   },
   "outputs": [
    {
     "name": "stdout",
     "output_type": "stream",
     "text": [
      "Accuracy: 0.84\n"
     ]
    },
    {
     "data": {
      "text/plain": [
       "(array([ 7,  5,  6, ..., 11,  0,  3]), array([15,  5,  6, ..., 11,  3,  3]))"
      ]
     },
     "execution_count": 61,
     "metadata": {},
     "output_type": "execute_result"
    }
   ],
   "source": [
    "eval(bi_model, test_iter, test_dataset)"
   ]
  },
  {
   "cell_type": "code",
   "execution_count": 62,
   "metadata": {
    "colab": {
     "base_uri": "https://localhost:8080/"
    },
    "id": "v4sLw6UrHU9K",
    "outputId": "15fc13b1-807e-457c-e602-3a4c86ebd6b0"
   },
   "outputs": [
    {
     "name": "stdout",
     "output_type": "stream",
     "text": [
      "Accuracy: 0.95\n"
     ]
    },
    {
     "data": {
      "text/plain": [
       "(array([ 0,  0,  3, ...,  8, 16,  3]), array([ 0,  0,  3, ...,  8, 16,  3]))"
      ]
     },
     "execution_count": 62,
     "metadata": {},
     "output_type": "execute_result"
    }
   ],
   "source": [
    "eval(bi_model, all_test_iter, all_test_dataset)"
   ]
  }
 ],
 "metadata": {
  "accelerator": "GPU",
  "colab": {
   "gpuType": "T4",
   "provenance": []
  },
  "kernelspec": {
   "display_name": "Python 3",
   "name": "python3"
  },
  "language_info": {
   "codemirror_mode": {
    "name": "ipython",
    "version": 3
   },
   "file_extension": ".py",
   "mimetype": "text/x-python",
   "name": "python",
   "nbconvert_exporter": "python",
   "pygments_lexer": "ipython3",
   "version": "3.10.13"
  },
  "widgets": {
   "application/vnd.jupyter.widget-state+json": {
    "0b94290fd60b4c77ada04788480f9cd6": {
     "model_module": "@jupyter-widgets/controls",
     "model_module_version": "1.5.0",
     "model_name": "HTMLModel",
     "state": {
      "_dom_classes": [],
      "_model_module": "@jupyter-widgets/controls",
      "_model_module_version": "1.5.0",
      "_model_name": "HTMLModel",
      "_view_count": null,
      "_view_module": "@jupyter-widgets/controls",
      "_view_module_version": "1.5.0",
      "_view_name": "HTMLView",
      "description": "",
      "description_tooltip": null,
      "layout": "IPY_MODEL_6f9dc641fca64f6aa184bbfdaf76c982",
      "placeholder": "​",
      "style": "IPY_MODEL_371c46b0b0ff4e738616df7076bde2c6",
      "value": "tokenizer.json: 100%"
     }
    },
    "0c40bd78533549c481a2060166b0958e": {
     "model_module": "@jupyter-widgets/controls",
     "model_module_version": "1.5.0",
     "model_name": "FloatProgressModel",
     "state": {
      "_dom_classes": [],
      "_model_module": "@jupyter-widgets/controls",
      "_model_module_version": "1.5.0",
      "_model_name": "FloatProgressModel",
      "_view_count": null,
      "_view_module": "@jupyter-widgets/controls",
      "_view_module_version": "1.5.0",
      "_view_name": "ProgressView",
      "bar_style": "success",
      "description": "",
      "description_tooltip": null,
      "layout": "IPY_MODEL_11a4d202ed484cccbbfa55018f8fd7b4",
      "max": 49,
      "min": 0,
      "orientation": "horizontal",
      "style": "IPY_MODEL_85b63951130246a783dff779420ff2b6",
      "value": 49
     }
    },
    "11a4d202ed484cccbbfa55018f8fd7b4": {
     "model_module": "@jupyter-widgets/base",
     "model_module_version": "1.2.0",
     "model_name": "LayoutModel",
     "state": {
      "_model_module": "@jupyter-widgets/base",
      "_model_module_version": "1.2.0",
      "_model_name": "LayoutModel",
      "_view_count": null,
      "_view_module": "@jupyter-widgets/base",
      "_view_module_version": "1.2.0",
      "_view_name": "LayoutView",
      "align_content": null,
      "align_items": null,
      "align_self": null,
      "border": null,
      "bottom": null,
      "display": null,
      "flex": null,
      "flex_flow": null,
      "grid_area": null,
      "grid_auto_columns": null,
      "grid_auto_flow": null,
      "grid_auto_rows": null,
      "grid_column": null,
      "grid_gap": null,
      "grid_row": null,
      "grid_template_areas": null,
      "grid_template_columns": null,
      "grid_template_rows": null,
      "height": null,
      "justify_content": null,
      "justify_items": null,
      "left": null,
      "margin": null,
      "max_height": null,
      "max_width": null,
      "min_height": null,
      "min_width": null,
      "object_fit": null,
      "object_position": null,
      "order": null,
      "overflow": null,
      "overflow_x": null,
      "overflow_y": null,
      "padding": null,
      "right": null,
      "top": null,
      "visibility": null,
      "width": null
     }
    },
    "1aa79327a04d49058693f4a1626f87c1": {
     "model_module": "@jupyter-widgets/controls",
     "model_module_version": "1.5.0",
     "model_name": "DescriptionStyleModel",
     "state": {
      "_model_module": "@jupyter-widgets/controls",
      "_model_module_version": "1.5.0",
      "_model_name": "DescriptionStyleModel",
      "_view_count": null,
      "_view_module": "@jupyter-widgets/base",
      "_view_module_version": "1.2.0",
      "_view_name": "StyleView",
      "description_width": ""
     }
    },
    "1b2b874622d24ee6ab8a1ba15360c5e0": {
     "model_module": "@jupyter-widgets/controls",
     "model_module_version": "1.5.0",
     "model_name": "HTMLModel",
     "state": {
      "_dom_classes": [],
      "_model_module": "@jupyter-widgets/controls",
      "_model_module_version": "1.5.0",
      "_model_name": "HTMLModel",
      "_view_count": null,
      "_view_module": "@jupyter-widgets/controls",
      "_view_module_version": "1.5.0",
      "_view_name": "HTMLView",
      "description": "",
      "description_tooltip": null,
      "layout": "IPY_MODEL_2dd213f4f8d84b4aa6dd86991d806564",
      "placeholder": "​",
      "style": "IPY_MODEL_5137101977ab4a2d90a9444dbd4c86c1",
      "value": " 49.0/49.0 [00:00&lt;00:00, 2.18kB/s]"
     }
    },
    "1d263cebd92d4c109819877ae5eb098b": {
     "model_module": "@jupyter-widgets/controls",
     "model_module_version": "1.5.0",
     "model_name": "HBoxModel",
     "state": {
      "_dom_classes": [],
      "_model_module": "@jupyter-widgets/controls",
      "_model_module_version": "1.5.0",
      "_model_name": "HBoxModel",
      "_view_count": null,
      "_view_module": "@jupyter-widgets/controls",
      "_view_module_version": "1.5.0",
      "_view_name": "HBoxView",
      "box_style": "",
      "children": [
       "IPY_MODEL_783b36fbc4604f3b85b07354e7577336",
       "IPY_MODEL_0c40bd78533549c481a2060166b0958e",
       "IPY_MODEL_1b2b874622d24ee6ab8a1ba15360c5e0"
      ],
      "layout": "IPY_MODEL_c76ea8f9798e4a25b2098c80199e81b0"
     }
    },
    "2853aebbcb79408fb2238dd69e9dbaf9": {
     "model_module": "@jupyter-widgets/base",
     "model_module_version": "1.2.0",
     "model_name": "LayoutModel",
     "state": {
      "_model_module": "@jupyter-widgets/base",
      "_model_module_version": "1.2.0",
      "_model_name": "LayoutModel",
      "_view_count": null,
      "_view_module": "@jupyter-widgets/base",
      "_view_module_version": "1.2.0",
      "_view_name": "LayoutView",
      "align_content": null,
      "align_items": null,
      "align_self": null,
      "border": null,
      "bottom": null,
      "display": null,
      "flex": null,
      "flex_flow": null,
      "grid_area": null,
      "grid_auto_columns": null,
      "grid_auto_flow": null,
      "grid_auto_rows": null,
      "grid_column": null,
      "grid_gap": null,
      "grid_row": null,
      "grid_template_areas": null,
      "grid_template_columns": null,
      "grid_template_rows": null,
      "height": null,
      "justify_content": null,
      "justify_items": null,
      "left": null,
      "margin": null,
      "max_height": null,
      "max_width": null,
      "min_height": null,
      "min_width": null,
      "object_fit": null,
      "object_position": null,
      "order": null,
      "overflow": null,
      "overflow_x": null,
      "overflow_y": null,
      "padding": null,
      "right": null,
      "top": null,
      "visibility": null,
      "width": null
     }
    },
    "2ae3b2898eda4306bbcdd1607574c7ba": {
     "model_module": "@jupyter-widgets/controls",
     "model_module_version": "1.5.0",
     "model_name": "HTMLModel",
     "state": {
      "_dom_classes": [],
      "_model_module": "@jupyter-widgets/controls",
      "_model_module_version": "1.5.0",
      "_model_name": "HTMLModel",
      "_view_count": null,
      "_view_module": "@jupyter-widgets/controls",
      "_view_module_version": "1.5.0",
      "_view_name": "HTMLView",
      "description": "",
      "description_tooltip": null,
      "layout": "IPY_MODEL_e4fc73c8d0bb45f586768a9dcfcb0996",
      "placeholder": "​",
      "style": "IPY_MODEL_f8d637b6b83a4960a808d9dba803c5f2",
      "value": "model.safetensors: 100%"
     }
    },
    "2dd213f4f8d84b4aa6dd86991d806564": {
     "model_module": "@jupyter-widgets/base",
     "model_module_version": "1.2.0",
     "model_name": "LayoutModel",
     "state": {
      "_model_module": "@jupyter-widgets/base",
      "_model_module_version": "1.2.0",
      "_model_name": "LayoutModel",
      "_view_count": null,
      "_view_module": "@jupyter-widgets/base",
      "_view_module_version": "1.2.0",
      "_view_name": "LayoutView",
      "align_content": null,
      "align_items": null,
      "align_self": null,
      "border": null,
      "bottom": null,
      "display": null,
      "flex": null,
      "flex_flow": null,
      "grid_area": null,
      "grid_auto_columns": null,
      "grid_auto_flow": null,
      "grid_auto_rows": null,
      "grid_column": null,
      "grid_gap": null,
      "grid_row": null,
      "grid_template_areas": null,
      "grid_template_columns": null,
      "grid_template_rows": null,
      "height": null,
      "justify_content": null,
      "justify_items": null,
      "left": null,
      "margin": null,
      "max_height": null,
      "max_width": null,
      "min_height": null,
      "min_width": null,
      "object_fit": null,
      "object_position": null,
      "order": null,
      "overflow": null,
      "overflow_x": null,
      "overflow_y": null,
      "padding": null,
      "right": null,
      "top": null,
      "visibility": null,
      "width": null
     }
    },
    "3496a6245ec841e8a3bf53e2f954fa07": {
     "model_module": "@jupyter-widgets/base",
     "model_module_version": "1.2.0",
     "model_name": "LayoutModel",
     "state": {
      "_model_module": "@jupyter-widgets/base",
      "_model_module_version": "1.2.0",
      "_model_name": "LayoutModel",
      "_view_count": null,
      "_view_module": "@jupyter-widgets/base",
      "_view_module_version": "1.2.0",
      "_view_name": "LayoutView",
      "align_content": null,
      "align_items": null,
      "align_self": null,
      "border": null,
      "bottom": null,
      "display": null,
      "flex": null,
      "flex_flow": null,
      "grid_area": null,
      "grid_auto_columns": null,
      "grid_auto_flow": null,
      "grid_auto_rows": null,
      "grid_column": null,
      "grid_gap": null,
      "grid_row": null,
      "grid_template_areas": null,
      "grid_template_columns": null,
      "grid_template_rows": null,
      "height": null,
      "justify_content": null,
      "justify_items": null,
      "left": null,
      "margin": null,
      "max_height": null,
      "max_width": null,
      "min_height": null,
      "min_width": null,
      "object_fit": null,
      "object_position": null,
      "order": null,
      "overflow": null,
      "overflow_x": null,
      "overflow_y": null,
      "padding": null,
      "right": null,
      "top": null,
      "visibility": null,
      "width": null
     }
    },
    "371c46b0b0ff4e738616df7076bde2c6": {
     "model_module": "@jupyter-widgets/controls",
     "model_module_version": "1.5.0",
     "model_name": "DescriptionStyleModel",
     "state": {
      "_model_module": "@jupyter-widgets/controls",
      "_model_module_version": "1.5.0",
      "_model_name": "DescriptionStyleModel",
      "_view_count": null,
      "_view_module": "@jupyter-widgets/base",
      "_view_module_version": "1.2.0",
      "_view_name": "StyleView",
      "description_width": ""
     }
    },
    "39cedd9ebe2947a3bbc6838a347d1310": {
     "model_module": "@jupyter-widgets/controls",
     "model_module_version": "1.5.0",
     "model_name": "FloatProgressModel",
     "state": {
      "_dom_classes": [],
      "_model_module": "@jupyter-widgets/controls",
      "_model_module_version": "1.5.0",
      "_model_name": "FloatProgressModel",
      "_view_count": null,
      "_view_module": "@jupyter-widgets/controls",
      "_view_module_version": "1.5.0",
      "_view_name": "ProgressView",
      "bar_style": "success",
      "description": "",
      "description_tooltip": null,
      "layout": "IPY_MODEL_c1ed28e3a6c74e53ac4f88fd015d5f7f",
      "max": 625,
      "min": 0,
      "orientation": "horizontal",
      "style": "IPY_MODEL_d14c874b56cc48dc9a4302302d89df11",
      "value": 625
     }
    },
    "41b757902cbb4a3aaaaf8ffaac9329ec": {
     "model_module": "@jupyter-widgets/controls",
     "model_module_version": "1.5.0",
     "model_name": "FloatProgressModel",
     "state": {
      "_dom_classes": [],
      "_model_module": "@jupyter-widgets/controls",
      "_model_module_version": "1.5.0",
      "_model_name": "FloatProgressModel",
      "_view_count": null,
      "_view_module": "@jupyter-widgets/controls",
      "_view_module_version": "1.5.0",
      "_view_name": "ProgressView",
      "bar_style": "success",
      "description": "",
      "description_tooltip": null,
      "layout": "IPY_MODEL_e71bafcf694b4171abfe1db4e835040e",
      "max": 995526,
      "min": 0,
      "orientation": "horizontal",
      "style": "IPY_MODEL_b00aebd11e354cb98541a8ad2b89739e",
      "value": 995526
     }
    },
    "4216f911f52444fe8ee81c51c4c40ee7": {
     "model_module": "@jupyter-widgets/base",
     "model_module_version": "1.2.0",
     "model_name": "LayoutModel",
     "state": {
      "_model_module": "@jupyter-widgets/base",
      "_model_module_version": "1.2.0",
      "_model_name": "LayoutModel",
      "_view_count": null,
      "_view_module": "@jupyter-widgets/base",
      "_view_module_version": "1.2.0",
      "_view_name": "LayoutView",
      "align_content": null,
      "align_items": null,
      "align_self": null,
      "border": null,
      "bottom": null,
      "display": null,
      "flex": null,
      "flex_flow": null,
      "grid_area": null,
      "grid_auto_columns": null,
      "grid_auto_flow": null,
      "grid_auto_rows": null,
      "grid_column": null,
      "grid_gap": null,
      "grid_row": null,
      "grid_template_areas": null,
      "grid_template_columns": null,
      "grid_template_rows": null,
      "height": null,
      "justify_content": null,
      "justify_items": null,
      "left": null,
      "margin": null,
      "max_height": null,
      "max_width": null,
      "min_height": null,
      "min_width": null,
      "object_fit": null,
      "object_position": null,
      "order": null,
      "overflow": null,
      "overflow_x": null,
      "overflow_y": null,
      "padding": null,
      "right": null,
      "top": null,
      "visibility": null,
      "width": null
     }
    },
    "44d4b1494ebe4a17a291fc81b1412475": {
     "model_module": "@jupyter-widgets/controls",
     "model_module_version": "1.5.0",
     "model_name": "ProgressStyleModel",
     "state": {
      "_model_module": "@jupyter-widgets/controls",
      "_model_module_version": "1.5.0",
      "_model_name": "ProgressStyleModel",
      "_view_count": null,
      "_view_module": "@jupyter-widgets/base",
      "_view_module_version": "1.2.0",
      "_view_name": "StyleView",
      "bar_color": null,
      "description_width": ""
     }
    },
    "47cd73eff6f8493ba6c082f1a58191b5": {
     "model_module": "@jupyter-widgets/controls",
     "model_module_version": "1.5.0",
     "model_name": "HTMLModel",
     "state": {
      "_dom_classes": [],
      "_model_module": "@jupyter-widgets/controls",
      "_model_module_version": "1.5.0",
      "_model_name": "HTMLModel",
      "_view_count": null,
      "_view_module": "@jupyter-widgets/controls",
      "_view_module_version": "1.5.0",
      "_view_name": "HTMLView",
      "description": "",
      "description_tooltip": null,
      "layout": "IPY_MODEL_eb69ee266e964e70ad9c339eb51fa797",
      "placeholder": "​",
      "style": "IPY_MODEL_fe811067e50b424a96ad5f0dc19d1d84",
      "value": " 1.96M/1.96M [00:00&lt;00:00, 5.84MB/s]"
     }
    },
    "4be4e39959d04d45a83de2dec7c5bd93": {
     "model_module": "@jupyter-widgets/controls",
     "model_module_version": "1.5.0",
     "model_name": "DescriptionStyleModel",
     "state": {
      "_model_module": "@jupyter-widgets/controls",
      "_model_module_version": "1.5.0",
      "_model_name": "DescriptionStyleModel",
      "_view_count": null,
      "_view_module": "@jupyter-widgets/base",
      "_view_module_version": "1.2.0",
      "_view_name": "StyleView",
      "description_width": ""
     }
    },
    "4ca88eac89d444d8888a0ae4816c4f99": {
     "model_module": "@jupyter-widgets/base",
     "model_module_version": "1.2.0",
     "model_name": "LayoutModel",
     "state": {
      "_model_module": "@jupyter-widgets/base",
      "_model_module_version": "1.2.0",
      "_model_name": "LayoutModel",
      "_view_count": null,
      "_view_module": "@jupyter-widgets/base",
      "_view_module_version": "1.2.0",
      "_view_name": "LayoutView",
      "align_content": null,
      "align_items": null,
      "align_self": null,
      "border": null,
      "bottom": null,
      "display": null,
      "flex": null,
      "flex_flow": null,
      "grid_area": null,
      "grid_auto_columns": null,
      "grid_auto_flow": null,
      "grid_auto_rows": null,
      "grid_column": null,
      "grid_gap": null,
      "grid_row": null,
      "grid_template_areas": null,
      "grid_template_columns": null,
      "grid_template_rows": null,
      "height": null,
      "justify_content": null,
      "justify_items": null,
      "left": null,
      "margin": null,
      "max_height": null,
      "max_width": null,
      "min_height": null,
      "min_width": null,
      "object_fit": null,
      "object_position": null,
      "order": null,
      "overflow": null,
      "overflow_x": null,
      "overflow_y": null,
      "padding": null,
      "right": null,
      "top": null,
      "visibility": null,
      "width": null
     }
    },
    "50838c5cf06e411183de700aca602c6e": {
     "model_module": "@jupyter-widgets/controls",
     "model_module_version": "1.5.0",
     "model_name": "HTMLModel",
     "state": {
      "_dom_classes": [],
      "_model_module": "@jupyter-widgets/controls",
      "_model_module_version": "1.5.0",
      "_model_name": "HTMLModel",
      "_view_count": null,
      "_view_module": "@jupyter-widgets/controls",
      "_view_module_version": "1.5.0",
      "_view_name": "HTMLView",
      "description": "",
      "description_tooltip": null,
      "layout": "IPY_MODEL_66bd8b8128a54a97b13affc2472cafae",
      "placeholder": "​",
      "style": "IPY_MODEL_1aa79327a04d49058693f4a1626f87c1",
      "value": " 714M/714M [00:02&lt;00:00, 228MB/s]"
     }
    },
    "51332772f51d49bcbaa9fac5c0c080a8": {
     "model_module": "@jupyter-widgets/controls",
     "model_module_version": "1.5.0",
     "model_name": "DescriptionStyleModel",
     "state": {
      "_model_module": "@jupyter-widgets/controls",
      "_model_module_version": "1.5.0",
      "_model_name": "DescriptionStyleModel",
      "_view_count": null,
      "_view_module": "@jupyter-widgets/base",
      "_view_module_version": "1.2.0",
      "_view_name": "StyleView",
      "description_width": ""
     }
    },
    "5137101977ab4a2d90a9444dbd4c86c1": {
     "model_module": "@jupyter-widgets/controls",
     "model_module_version": "1.5.0",
     "model_name": "DescriptionStyleModel",
     "state": {
      "_model_module": "@jupyter-widgets/controls",
      "_model_module_version": "1.5.0",
      "_model_name": "DescriptionStyleModel",
      "_view_count": null,
      "_view_module": "@jupyter-widgets/base",
      "_view_module_version": "1.2.0",
      "_view_name": "StyleView",
      "description_width": ""
     }
    },
    "56e2d6fa00eb46d9988560c4417bed3e": {
     "model_module": "@jupyter-widgets/base",
     "model_module_version": "1.2.0",
     "model_name": "LayoutModel",
     "state": {
      "_model_module": "@jupyter-widgets/base",
      "_model_module_version": "1.2.0",
      "_model_name": "LayoutModel",
      "_view_count": null,
      "_view_module": "@jupyter-widgets/base",
      "_view_module_version": "1.2.0",
      "_view_name": "LayoutView",
      "align_content": null,
      "align_items": null,
      "align_self": null,
      "border": null,
      "bottom": null,
      "display": null,
      "flex": null,
      "flex_flow": null,
      "grid_area": null,
      "grid_auto_columns": null,
      "grid_auto_flow": null,
      "grid_auto_rows": null,
      "grid_column": null,
      "grid_gap": null,
      "grid_row": null,
      "grid_template_areas": null,
      "grid_template_columns": null,
      "grid_template_rows": null,
      "height": null,
      "justify_content": null,
      "justify_items": null,
      "left": null,
      "margin": null,
      "max_height": null,
      "max_width": null,
      "min_height": null,
      "min_width": null,
      "object_fit": null,
      "object_position": null,
      "order": null,
      "overflow": null,
      "overflow_x": null,
      "overflow_y": null,
      "padding": null,
      "right": null,
      "top": null,
      "visibility": null,
      "width": null
     }
    },
    "61811cf1030c40048697e92d5011d0b4": {
     "model_module": "@jupyter-widgets/base",
     "model_module_version": "1.2.0",
     "model_name": "LayoutModel",
     "state": {
      "_model_module": "@jupyter-widgets/base",
      "_model_module_version": "1.2.0",
      "_model_name": "LayoutModel",
      "_view_count": null,
      "_view_module": "@jupyter-widgets/base",
      "_view_module_version": "1.2.0",
      "_view_name": "LayoutView",
      "align_content": null,
      "align_items": null,
      "align_self": null,
      "border": null,
      "bottom": null,
      "display": null,
      "flex": null,
      "flex_flow": null,
      "grid_area": null,
      "grid_auto_columns": null,
      "grid_auto_flow": null,
      "grid_auto_rows": null,
      "grid_column": null,
      "grid_gap": null,
      "grid_row": null,
      "grid_template_areas": null,
      "grid_template_columns": null,
      "grid_template_rows": null,
      "height": null,
      "justify_content": null,
      "justify_items": null,
      "left": null,
      "margin": null,
      "max_height": null,
      "max_width": null,
      "min_height": null,
      "min_width": null,
      "object_fit": null,
      "object_position": null,
      "order": null,
      "overflow": null,
      "overflow_x": null,
      "overflow_y": null,
      "padding": null,
      "right": null,
      "top": null,
      "visibility": null,
      "width": null
     }
    },
    "61ac80dbd6544140973808ba23bdba65": {
     "model_module": "@jupyter-widgets/controls",
     "model_module_version": "1.5.0",
     "model_name": "HBoxModel",
     "state": {
      "_dom_classes": [],
      "_model_module": "@jupyter-widgets/controls",
      "_model_module_version": "1.5.0",
      "_model_name": "HBoxModel",
      "_view_count": null,
      "_view_module": "@jupyter-widgets/controls",
      "_view_module_version": "1.5.0",
      "_view_name": "HBoxView",
      "box_style": "",
      "children": [
       "IPY_MODEL_0b94290fd60b4c77ada04788480f9cd6",
       "IPY_MODEL_65267683c8114e7cb839402ab2398b19",
       "IPY_MODEL_47cd73eff6f8493ba6c082f1a58191b5"
      ],
      "layout": "IPY_MODEL_67653f00fe5b41f6ad0d9146c8c87508"
     }
    },
    "65267683c8114e7cb839402ab2398b19": {
     "model_module": "@jupyter-widgets/controls",
     "model_module_version": "1.5.0",
     "model_name": "FloatProgressModel",
     "state": {
      "_dom_classes": [],
      "_model_module": "@jupyter-widgets/controls",
      "_model_module_version": "1.5.0",
      "_model_name": "FloatProgressModel",
      "_view_count": null,
      "_view_module": "@jupyter-widgets/controls",
      "_view_module_version": "1.5.0",
      "_view_name": "ProgressView",
      "bar_style": "success",
      "description": "",
      "description_tooltip": null,
      "layout": "IPY_MODEL_3496a6245ec841e8a3bf53e2f954fa07",
      "max": 1961828,
      "min": 0,
      "orientation": "horizontal",
      "style": "IPY_MODEL_8bee08bfb9584281815cdc306f8ce277",
      "value": 1961828
     }
    },
    "66bd8b8128a54a97b13affc2472cafae": {
     "model_module": "@jupyter-widgets/base",
     "model_module_version": "1.2.0",
     "model_name": "LayoutModel",
     "state": {
      "_model_module": "@jupyter-widgets/base",
      "_model_module_version": "1.2.0",
      "_model_name": "LayoutModel",
      "_view_count": null,
      "_view_module": "@jupyter-widgets/base",
      "_view_module_version": "1.2.0",
      "_view_name": "LayoutView",
      "align_content": null,
      "align_items": null,
      "align_self": null,
      "border": null,
      "bottom": null,
      "display": null,
      "flex": null,
      "flex_flow": null,
      "grid_area": null,
      "grid_auto_columns": null,
      "grid_auto_flow": null,
      "grid_auto_rows": null,
      "grid_column": null,
      "grid_gap": null,
      "grid_row": null,
      "grid_template_areas": null,
      "grid_template_columns": null,
      "grid_template_rows": null,
      "height": null,
      "justify_content": null,
      "justify_items": null,
      "left": null,
      "margin": null,
      "max_height": null,
      "max_width": null,
      "min_height": null,
      "min_width": null,
      "object_fit": null,
      "object_position": null,
      "order": null,
      "overflow": null,
      "overflow_x": null,
      "overflow_y": null,
      "padding": null,
      "right": null,
      "top": null,
      "visibility": null,
      "width": null
     }
    },
    "67653f00fe5b41f6ad0d9146c8c87508": {
     "model_module": "@jupyter-widgets/base",
     "model_module_version": "1.2.0",
     "model_name": "LayoutModel",
     "state": {
      "_model_module": "@jupyter-widgets/base",
      "_model_module_version": "1.2.0",
      "_model_name": "LayoutModel",
      "_view_count": null,
      "_view_module": "@jupyter-widgets/base",
      "_view_module_version": "1.2.0",
      "_view_name": "LayoutView",
      "align_content": null,
      "align_items": null,
      "align_self": null,
      "border": null,
      "bottom": null,
      "display": null,
      "flex": null,
      "flex_flow": null,
      "grid_area": null,
      "grid_auto_columns": null,
      "grid_auto_flow": null,
      "grid_auto_rows": null,
      "grid_column": null,
      "grid_gap": null,
      "grid_row": null,
      "grid_template_areas": null,
      "grid_template_columns": null,
      "grid_template_rows": null,
      "height": null,
      "justify_content": null,
      "justify_items": null,
      "left": null,
      "margin": null,
      "max_height": null,
      "max_width": null,
      "min_height": null,
      "min_width": null,
      "object_fit": null,
      "object_position": null,
      "order": null,
      "overflow": null,
      "overflow_x": null,
      "overflow_y": null,
      "padding": null,
      "right": null,
      "top": null,
      "visibility": null,
      "width": null
     }
    },
    "6f9dc641fca64f6aa184bbfdaf76c982": {
     "model_module": "@jupyter-widgets/base",
     "model_module_version": "1.2.0",
     "model_name": "LayoutModel",
     "state": {
      "_model_module": "@jupyter-widgets/base",
      "_model_module_version": "1.2.0",
      "_model_name": "LayoutModel",
      "_view_count": null,
      "_view_module": "@jupyter-widgets/base",
      "_view_module_version": "1.2.0",
      "_view_name": "LayoutView",
      "align_content": null,
      "align_items": null,
      "align_self": null,
      "border": null,
      "bottom": null,
      "display": null,
      "flex": null,
      "flex_flow": null,
      "grid_area": null,
      "grid_auto_columns": null,
      "grid_auto_flow": null,
      "grid_auto_rows": null,
      "grid_column": null,
      "grid_gap": null,
      "grid_row": null,
      "grid_template_areas": null,
      "grid_template_columns": null,
      "grid_template_rows": null,
      "height": null,
      "justify_content": null,
      "justify_items": null,
      "left": null,
      "margin": null,
      "max_height": null,
      "max_width": null,
      "min_height": null,
      "min_width": null,
      "object_fit": null,
      "object_position": null,
      "order": null,
      "overflow": null,
      "overflow_x": null,
      "overflow_y": null,
      "padding": null,
      "right": null,
      "top": null,
      "visibility": null,
      "width": null
     }
    },
    "783b36fbc4604f3b85b07354e7577336": {
     "model_module": "@jupyter-widgets/controls",
     "model_module_version": "1.5.0",
     "model_name": "HTMLModel",
     "state": {
      "_dom_classes": [],
      "_model_module": "@jupyter-widgets/controls",
      "_model_module_version": "1.5.0",
      "_model_name": "HTMLModel",
      "_view_count": null,
      "_view_module": "@jupyter-widgets/controls",
      "_view_module_version": "1.5.0",
      "_view_name": "HTMLView",
      "description": "",
      "description_tooltip": null,
      "layout": "IPY_MODEL_2853aebbcb79408fb2238dd69e9dbaf9",
      "placeholder": "​",
      "style": "IPY_MODEL_4be4e39959d04d45a83de2dec7c5bd93",
      "value": "tokenizer_config.json: 100%"
     }
    },
    "7df090cb10944766bb1adb95e5062b4d": {
     "model_module": "@jupyter-widgets/base",
     "model_module_version": "1.2.0",
     "model_name": "LayoutModel",
     "state": {
      "_model_module": "@jupyter-widgets/base",
      "_model_module_version": "1.2.0",
      "_model_name": "LayoutModel",
      "_view_count": null,
      "_view_module": "@jupyter-widgets/base",
      "_view_module_version": "1.2.0",
      "_view_name": "LayoutView",
      "align_content": null,
      "align_items": null,
      "align_self": null,
      "border": null,
      "bottom": null,
      "display": null,
      "flex": null,
      "flex_flow": null,
      "grid_area": null,
      "grid_auto_columns": null,
      "grid_auto_flow": null,
      "grid_auto_rows": null,
      "grid_column": null,
      "grid_gap": null,
      "grid_row": null,
      "grid_template_areas": null,
      "grid_template_columns": null,
      "grid_template_rows": null,
      "height": null,
      "justify_content": null,
      "justify_items": null,
      "left": null,
      "margin": null,
      "max_height": null,
      "max_width": null,
      "min_height": null,
      "min_width": null,
      "object_fit": null,
      "object_position": null,
      "order": null,
      "overflow": null,
      "overflow_x": null,
      "overflow_y": null,
      "padding": null,
      "right": null,
      "top": null,
      "visibility": null,
      "width": null
     }
    },
    "7febcbccb2784b8494c07074235e411b": {
     "model_module": "@jupyter-widgets/controls",
     "model_module_version": "1.5.0",
     "model_name": "HBoxModel",
     "state": {
      "_dom_classes": [],
      "_model_module": "@jupyter-widgets/controls",
      "_model_module_version": "1.5.0",
      "_model_name": "HBoxModel",
      "_view_count": null,
      "_view_module": "@jupyter-widgets/controls",
      "_view_module_version": "1.5.0",
      "_view_name": "HBoxView",
      "box_style": "",
      "children": [
       "IPY_MODEL_e793b5932d13404cb18dcb4d12566e9d",
       "IPY_MODEL_39cedd9ebe2947a3bbc6838a347d1310",
       "IPY_MODEL_c51f7da28ab64e7ca1d19924223a5126"
      ],
      "layout": "IPY_MODEL_56e2d6fa00eb46d9988560c4417bed3e"
     }
    },
    "85b63951130246a783dff779420ff2b6": {
     "model_module": "@jupyter-widgets/controls",
     "model_module_version": "1.5.0",
     "model_name": "ProgressStyleModel",
     "state": {
      "_model_module": "@jupyter-widgets/controls",
      "_model_module_version": "1.5.0",
      "_model_name": "ProgressStyleModel",
      "_view_count": null,
      "_view_module": "@jupyter-widgets/base",
      "_view_module_version": "1.2.0",
      "_view_name": "StyleView",
      "bar_color": null,
      "description_width": ""
     }
    },
    "865499a658f648eca8e3914947bf3209": {
     "model_module": "@jupyter-widgets/base",
     "model_module_version": "1.2.0",
     "model_name": "LayoutModel",
     "state": {
      "_model_module": "@jupyter-widgets/base",
      "_model_module_version": "1.2.0",
      "_model_name": "LayoutModel",
      "_view_count": null,
      "_view_module": "@jupyter-widgets/base",
      "_view_module_version": "1.2.0",
      "_view_name": "LayoutView",
      "align_content": null,
      "align_items": null,
      "align_self": null,
      "border": null,
      "bottom": null,
      "display": null,
      "flex": null,
      "flex_flow": null,
      "grid_area": null,
      "grid_auto_columns": null,
      "grid_auto_flow": null,
      "grid_auto_rows": null,
      "grid_column": null,
      "grid_gap": null,
      "grid_row": null,
      "grid_template_areas": null,
      "grid_template_columns": null,
      "grid_template_rows": null,
      "height": null,
      "justify_content": null,
      "justify_items": null,
      "left": null,
      "margin": null,
      "max_height": null,
      "max_width": null,
      "min_height": null,
      "min_width": null,
      "object_fit": null,
      "object_position": null,
      "order": null,
      "overflow": null,
      "overflow_x": null,
      "overflow_y": null,
      "padding": null,
      "right": null,
      "top": null,
      "visibility": null,
      "width": null
     }
    },
    "8bee08bfb9584281815cdc306f8ce277": {
     "model_module": "@jupyter-widgets/controls",
     "model_module_version": "1.5.0",
     "model_name": "ProgressStyleModel",
     "state": {
      "_model_module": "@jupyter-widgets/controls",
      "_model_module_version": "1.5.0",
      "_model_name": "ProgressStyleModel",
      "_view_count": null,
      "_view_module": "@jupyter-widgets/base",
      "_view_module_version": "1.2.0",
      "_view_name": "StyleView",
      "bar_color": null,
      "description_width": ""
     }
    },
    "9493e65eafba404e824ff35a929fe197": {
     "model_module": "@jupyter-widgets/base",
     "model_module_version": "1.2.0",
     "model_name": "LayoutModel",
     "state": {
      "_model_module": "@jupyter-widgets/base",
      "_model_module_version": "1.2.0",
      "_model_name": "LayoutModel",
      "_view_count": null,
      "_view_module": "@jupyter-widgets/base",
      "_view_module_version": "1.2.0",
      "_view_name": "LayoutView",
      "align_content": null,
      "align_items": null,
      "align_self": null,
      "border": null,
      "bottom": null,
      "display": null,
      "flex": null,
      "flex_flow": null,
      "grid_area": null,
      "grid_auto_columns": null,
      "grid_auto_flow": null,
      "grid_auto_rows": null,
      "grid_column": null,
      "grid_gap": null,
      "grid_row": null,
      "grid_template_areas": null,
      "grid_template_columns": null,
      "grid_template_rows": null,
      "height": null,
      "justify_content": null,
      "justify_items": null,
      "left": null,
      "margin": null,
      "max_height": null,
      "max_width": null,
      "min_height": null,
      "min_width": null,
      "object_fit": null,
      "object_position": null,
      "order": null,
      "overflow": null,
      "overflow_x": null,
      "overflow_y": null,
      "padding": null,
      "right": null,
      "top": null,
      "visibility": null,
      "width": null
     }
    },
    "983a03b280f140538cc285013dc34df7": {
     "model_module": "@jupyter-widgets/controls",
     "model_module_version": "1.5.0",
     "model_name": "DescriptionStyleModel",
     "state": {
      "_model_module": "@jupyter-widgets/controls",
      "_model_module_version": "1.5.0",
      "_model_name": "DescriptionStyleModel",
      "_view_count": null,
      "_view_module": "@jupyter-widgets/base",
      "_view_module_version": "1.2.0",
      "_view_name": "StyleView",
      "description_width": ""
     }
    },
    "a9d67c34a5934828a6e80e7233d1466f": {
     "model_module": "@jupyter-widgets/base",
     "model_module_version": "1.2.0",
     "model_name": "LayoutModel",
     "state": {
      "_model_module": "@jupyter-widgets/base",
      "_model_module_version": "1.2.0",
      "_model_name": "LayoutModel",
      "_view_count": null,
      "_view_module": "@jupyter-widgets/base",
      "_view_module_version": "1.2.0",
      "_view_name": "LayoutView",
      "align_content": null,
      "align_items": null,
      "align_self": null,
      "border": null,
      "bottom": null,
      "display": null,
      "flex": null,
      "flex_flow": null,
      "grid_area": null,
      "grid_auto_columns": null,
      "grid_auto_flow": null,
      "grid_auto_rows": null,
      "grid_column": null,
      "grid_gap": null,
      "grid_row": null,
      "grid_template_areas": null,
      "grid_template_columns": null,
      "grid_template_rows": null,
      "height": null,
      "justify_content": null,
      "justify_items": null,
      "left": null,
      "margin": null,
      "max_height": null,
      "max_width": null,
      "min_height": null,
      "min_width": null,
      "object_fit": null,
      "object_position": null,
      "order": null,
      "overflow": null,
      "overflow_x": null,
      "overflow_y": null,
      "padding": null,
      "right": null,
      "top": null,
      "visibility": null,
      "width": null
     }
    },
    "b00aebd11e354cb98541a8ad2b89739e": {
     "model_module": "@jupyter-widgets/controls",
     "model_module_version": "1.5.0",
     "model_name": "ProgressStyleModel",
     "state": {
      "_model_module": "@jupyter-widgets/controls",
      "_model_module_version": "1.5.0",
      "_model_name": "ProgressStyleModel",
      "_view_count": null,
      "_view_module": "@jupyter-widgets/base",
      "_view_module_version": "1.2.0",
      "_view_name": "StyleView",
      "bar_color": null,
      "description_width": ""
     }
    },
    "b78d879534734f1dac8c97e234638ee7": {
     "model_module": "@jupyter-widgets/controls",
     "model_module_version": "1.5.0",
     "model_name": "HTMLModel",
     "state": {
      "_dom_classes": [],
      "_model_module": "@jupyter-widgets/controls",
      "_model_module_version": "1.5.0",
      "_model_name": "HTMLModel",
      "_view_count": null,
      "_view_module": "@jupyter-widgets/controls",
      "_view_module_version": "1.5.0",
      "_view_name": "HTMLView",
      "description": "",
      "description_tooltip": null,
      "layout": "IPY_MODEL_9493e65eafba404e824ff35a929fe197",
      "placeholder": "​",
      "style": "IPY_MODEL_d613bf84e0d24ff5bf28ba3062ef235a",
      "value": " 996k/996k [00:00&lt;00:00, 16.3MB/s]"
     }
    },
    "b98be0960ac84346815630f35d0c54e4": {
     "model_module": "@jupyter-widgets/controls",
     "model_module_version": "1.5.0",
     "model_name": "HTMLModel",
     "state": {
      "_dom_classes": [],
      "_model_module": "@jupyter-widgets/controls",
      "_model_module_version": "1.5.0",
      "_model_name": "HTMLModel",
      "_view_count": null,
      "_view_module": "@jupyter-widgets/controls",
      "_view_module_version": "1.5.0",
      "_view_name": "HTMLView",
      "description": "",
      "description_tooltip": null,
      "layout": "IPY_MODEL_61811cf1030c40048697e92d5011d0b4",
      "placeholder": "​",
      "style": "IPY_MODEL_51332772f51d49bcbaa9fac5c0c080a8",
      "value": "vocab.txt: 100%"
     }
    },
    "c1ed28e3a6c74e53ac4f88fd015d5f7f": {
     "model_module": "@jupyter-widgets/base",
     "model_module_version": "1.2.0",
     "model_name": "LayoutModel",
     "state": {
      "_model_module": "@jupyter-widgets/base",
      "_model_module_version": "1.2.0",
      "_model_name": "LayoutModel",
      "_view_count": null,
      "_view_module": "@jupyter-widgets/base",
      "_view_module_version": "1.2.0",
      "_view_name": "LayoutView",
      "align_content": null,
      "align_items": null,
      "align_self": null,
      "border": null,
      "bottom": null,
      "display": null,
      "flex": null,
      "flex_flow": null,
      "grid_area": null,
      "grid_auto_columns": null,
      "grid_auto_flow": null,
      "grid_auto_rows": null,
      "grid_column": null,
      "grid_gap": null,
      "grid_row": null,
      "grid_template_areas": null,
      "grid_template_columns": null,
      "grid_template_rows": null,
      "height": null,
      "justify_content": null,
      "justify_items": null,
      "left": null,
      "margin": null,
      "max_height": null,
      "max_width": null,
      "min_height": null,
      "min_width": null,
      "object_fit": null,
      "object_position": null,
      "order": null,
      "overflow": null,
      "overflow_x": null,
      "overflow_y": null,
      "padding": null,
      "right": null,
      "top": null,
      "visibility": null,
      "width": null
     }
    },
    "c51f7da28ab64e7ca1d19924223a5126": {
     "model_module": "@jupyter-widgets/controls",
     "model_module_version": "1.5.0",
     "model_name": "HTMLModel",
     "state": {
      "_dom_classes": [],
      "_model_module": "@jupyter-widgets/controls",
      "_model_module_version": "1.5.0",
      "_model_name": "HTMLModel",
      "_view_count": null,
      "_view_module": "@jupyter-widgets/controls",
      "_view_module_version": "1.5.0",
      "_view_name": "HTMLView",
      "description": "",
      "description_tooltip": null,
      "layout": "IPY_MODEL_865499a658f648eca8e3914947bf3209",
      "placeholder": "​",
      "style": "IPY_MODEL_983a03b280f140538cc285013dc34df7",
      "value": " 625/625 [00:00&lt;00:00, 27.9kB/s]"
     }
    },
    "c76ea8f9798e4a25b2098c80199e81b0": {
     "model_module": "@jupyter-widgets/base",
     "model_module_version": "1.2.0",
     "model_name": "LayoutModel",
     "state": {
      "_model_module": "@jupyter-widgets/base",
      "_model_module_version": "1.2.0",
      "_model_name": "LayoutModel",
      "_view_count": null,
      "_view_module": "@jupyter-widgets/base",
      "_view_module_version": "1.2.0",
      "_view_name": "LayoutView",
      "align_content": null,
      "align_items": null,
      "align_self": null,
      "border": null,
      "bottom": null,
      "display": null,
      "flex": null,
      "flex_flow": null,
      "grid_area": null,
      "grid_auto_columns": null,
      "grid_auto_flow": null,
      "grid_auto_rows": null,
      "grid_column": null,
      "grid_gap": null,
      "grid_row": null,
      "grid_template_areas": null,
      "grid_template_columns": null,
      "grid_template_rows": null,
      "height": null,
      "justify_content": null,
      "justify_items": null,
      "left": null,
      "margin": null,
      "max_height": null,
      "max_width": null,
      "min_height": null,
      "min_width": null,
      "object_fit": null,
      "object_position": null,
      "order": null,
      "overflow": null,
      "overflow_x": null,
      "overflow_y": null,
      "padding": null,
      "right": null,
      "top": null,
      "visibility": null,
      "width": null
     }
    },
    "d14c874b56cc48dc9a4302302d89df11": {
     "model_module": "@jupyter-widgets/controls",
     "model_module_version": "1.5.0",
     "model_name": "ProgressStyleModel",
     "state": {
      "_model_module": "@jupyter-widgets/controls",
      "_model_module_version": "1.5.0",
      "_model_name": "ProgressStyleModel",
      "_view_count": null,
      "_view_module": "@jupyter-widgets/base",
      "_view_module_version": "1.2.0",
      "_view_name": "StyleView",
      "bar_color": null,
      "description_width": ""
     }
    },
    "d613bf84e0d24ff5bf28ba3062ef235a": {
     "model_module": "@jupyter-widgets/controls",
     "model_module_version": "1.5.0",
     "model_name": "DescriptionStyleModel",
     "state": {
      "_model_module": "@jupyter-widgets/controls",
      "_model_module_version": "1.5.0",
      "_model_name": "DescriptionStyleModel",
      "_view_count": null,
      "_view_module": "@jupyter-widgets/base",
      "_view_module_version": "1.2.0",
      "_view_name": "StyleView",
      "description_width": ""
     }
    },
    "e4fc73c8d0bb45f586768a9dcfcb0996": {
     "model_module": "@jupyter-widgets/base",
     "model_module_version": "1.2.0",
     "model_name": "LayoutModel",
     "state": {
      "_model_module": "@jupyter-widgets/base",
      "_model_module_version": "1.2.0",
      "_model_name": "LayoutModel",
      "_view_count": null,
      "_view_module": "@jupyter-widgets/base",
      "_view_module_version": "1.2.0",
      "_view_name": "LayoutView",
      "align_content": null,
      "align_items": null,
      "align_self": null,
      "border": null,
      "bottom": null,
      "display": null,
      "flex": null,
      "flex_flow": null,
      "grid_area": null,
      "grid_auto_columns": null,
      "grid_auto_flow": null,
      "grid_auto_rows": null,
      "grid_column": null,
      "grid_gap": null,
      "grid_row": null,
      "grid_template_areas": null,
      "grid_template_columns": null,
      "grid_template_rows": null,
      "height": null,
      "justify_content": null,
      "justify_items": null,
      "left": null,
      "margin": null,
      "max_height": null,
      "max_width": null,
      "min_height": null,
      "min_width": null,
      "object_fit": null,
      "object_position": null,
      "order": null,
      "overflow": null,
      "overflow_x": null,
      "overflow_y": null,
      "padding": null,
      "right": null,
      "top": null,
      "visibility": null,
      "width": null
     }
    },
    "e71bafcf694b4171abfe1db4e835040e": {
     "model_module": "@jupyter-widgets/base",
     "model_module_version": "1.2.0",
     "model_name": "LayoutModel",
     "state": {
      "_model_module": "@jupyter-widgets/base",
      "_model_module_version": "1.2.0",
      "_model_name": "LayoutModel",
      "_view_count": null,
      "_view_module": "@jupyter-widgets/base",
      "_view_module_version": "1.2.0",
      "_view_name": "LayoutView",
      "align_content": null,
      "align_items": null,
      "align_self": null,
      "border": null,
      "bottom": null,
      "display": null,
      "flex": null,
      "flex_flow": null,
      "grid_area": null,
      "grid_auto_columns": null,
      "grid_auto_flow": null,
      "grid_auto_rows": null,
      "grid_column": null,
      "grid_gap": null,
      "grid_row": null,
      "grid_template_areas": null,
      "grid_template_columns": null,
      "grid_template_rows": null,
      "height": null,
      "justify_content": null,
      "justify_items": null,
      "left": null,
      "margin": null,
      "max_height": null,
      "max_width": null,
      "min_height": null,
      "min_width": null,
      "object_fit": null,
      "object_position": null,
      "order": null,
      "overflow": null,
      "overflow_x": null,
      "overflow_y": null,
      "padding": null,
      "right": null,
      "top": null,
      "visibility": null,
      "width": null
     }
    },
    "e793b5932d13404cb18dcb4d12566e9d": {
     "model_module": "@jupyter-widgets/controls",
     "model_module_version": "1.5.0",
     "model_name": "HTMLModel",
     "state": {
      "_dom_classes": [],
      "_model_module": "@jupyter-widgets/controls",
      "_model_module_version": "1.5.0",
      "_model_name": "HTMLModel",
      "_view_count": null,
      "_view_module": "@jupyter-widgets/controls",
      "_view_module_version": "1.5.0",
      "_view_name": "HTMLView",
      "description": "",
      "description_tooltip": null,
      "layout": "IPY_MODEL_7df090cb10944766bb1adb95e5062b4d",
      "placeholder": "​",
      "style": "IPY_MODEL_ebc2a67d91a144e0b746c3d54a6757ac",
      "value": "config.json: 100%"
     }
    },
    "eb69ee266e964e70ad9c339eb51fa797": {
     "model_module": "@jupyter-widgets/base",
     "model_module_version": "1.2.0",
     "model_name": "LayoutModel",
     "state": {
      "_model_module": "@jupyter-widgets/base",
      "_model_module_version": "1.2.0",
      "_model_name": "LayoutModel",
      "_view_count": null,
      "_view_module": "@jupyter-widgets/base",
      "_view_module_version": "1.2.0",
      "_view_name": "LayoutView",
      "align_content": null,
      "align_items": null,
      "align_self": null,
      "border": null,
      "bottom": null,
      "display": null,
      "flex": null,
      "flex_flow": null,
      "grid_area": null,
      "grid_auto_columns": null,
      "grid_auto_flow": null,
      "grid_auto_rows": null,
      "grid_column": null,
      "grid_gap": null,
      "grid_row": null,
      "grid_template_areas": null,
      "grid_template_columns": null,
      "grid_template_rows": null,
      "height": null,
      "justify_content": null,
      "justify_items": null,
      "left": null,
      "margin": null,
      "max_height": null,
      "max_width": null,
      "min_height": null,
      "min_width": null,
      "object_fit": null,
      "object_position": null,
      "order": null,
      "overflow": null,
      "overflow_x": null,
      "overflow_y": null,
      "padding": null,
      "right": null,
      "top": null,
      "visibility": null,
      "width": null
     }
    },
    "ebc2a67d91a144e0b746c3d54a6757ac": {
     "model_module": "@jupyter-widgets/controls",
     "model_module_version": "1.5.0",
     "model_name": "DescriptionStyleModel",
     "state": {
      "_model_module": "@jupyter-widgets/controls",
      "_model_module_version": "1.5.0",
      "_model_name": "DescriptionStyleModel",
      "_view_count": null,
      "_view_module": "@jupyter-widgets/base",
      "_view_module_version": "1.2.0",
      "_view_name": "StyleView",
      "description_width": ""
     }
    },
    "ecb94ffc3f2f4a5d9dd08db84f7d98cf": {
     "model_module": "@jupyter-widgets/controls",
     "model_module_version": "1.5.0",
     "model_name": "HBoxModel",
     "state": {
      "_dom_classes": [],
      "_model_module": "@jupyter-widgets/controls",
      "_model_module_version": "1.5.0",
      "_model_name": "HBoxModel",
      "_view_count": null,
      "_view_module": "@jupyter-widgets/controls",
      "_view_module_version": "1.5.0",
      "_view_name": "HBoxView",
      "box_style": "",
      "children": [
       "IPY_MODEL_2ae3b2898eda4306bbcdd1607574c7ba",
       "IPY_MODEL_fa2b48a8a68d4644b41a6ed1782c90ea",
       "IPY_MODEL_50838c5cf06e411183de700aca602c6e"
      ],
      "layout": "IPY_MODEL_4ca88eac89d444d8888a0ae4816c4f99"
     }
    },
    "ef467d2c5e334851a3d72f0175ccaa26": {
     "model_module": "@jupyter-widgets/controls",
     "model_module_version": "1.5.0",
     "model_name": "HBoxModel",
     "state": {
      "_dom_classes": [],
      "_model_module": "@jupyter-widgets/controls",
      "_model_module_version": "1.5.0",
      "_model_name": "HBoxModel",
      "_view_count": null,
      "_view_module": "@jupyter-widgets/controls",
      "_view_module_version": "1.5.0",
      "_view_name": "HBoxView",
      "box_style": "",
      "children": [
       "IPY_MODEL_b98be0960ac84346815630f35d0c54e4",
       "IPY_MODEL_41b757902cbb4a3aaaaf8ffaac9329ec",
       "IPY_MODEL_b78d879534734f1dac8c97e234638ee7"
      ],
      "layout": "IPY_MODEL_a9d67c34a5934828a6e80e7233d1466f"
     }
    },
    "f8d637b6b83a4960a808d9dba803c5f2": {
     "model_module": "@jupyter-widgets/controls",
     "model_module_version": "1.5.0",
     "model_name": "DescriptionStyleModel",
     "state": {
      "_model_module": "@jupyter-widgets/controls",
      "_model_module_version": "1.5.0",
      "_model_name": "DescriptionStyleModel",
      "_view_count": null,
      "_view_module": "@jupyter-widgets/base",
      "_view_module_version": "1.2.0",
      "_view_name": "StyleView",
      "description_width": ""
     }
    },
    "fa2b48a8a68d4644b41a6ed1782c90ea": {
     "model_module": "@jupyter-widgets/controls",
     "model_module_version": "1.5.0",
     "model_name": "FloatProgressModel",
     "state": {
      "_dom_classes": [],
      "_model_module": "@jupyter-widgets/controls",
      "_model_module_version": "1.5.0",
      "_model_name": "FloatProgressModel",
      "_view_count": null,
      "_view_module": "@jupyter-widgets/controls",
      "_view_module_version": "1.5.0",
      "_view_name": "ProgressView",
      "bar_style": "success",
      "description": "",
      "description_tooltip": null,
      "layout": "IPY_MODEL_4216f911f52444fe8ee81c51c4c40ee7",
      "max": 714290682,
      "min": 0,
      "orientation": "horizontal",
      "style": "IPY_MODEL_44d4b1494ebe4a17a291fc81b1412475",
      "value": 714290682
     }
    },
    "fe811067e50b424a96ad5f0dc19d1d84": {
     "model_module": "@jupyter-widgets/controls",
     "model_module_version": "1.5.0",
     "model_name": "DescriptionStyleModel",
     "state": {
      "_model_module": "@jupyter-widgets/controls",
      "_model_module_version": "1.5.0",
      "_model_name": "DescriptionStyleModel",
      "_view_count": null,
      "_view_module": "@jupyter-widgets/base",
      "_view_module_version": "1.2.0",
      "_view_name": "StyleView",
      "description_width": ""
     }
    }
   }
  }
 },
 "nbformat": 4,
 "nbformat_minor": 0
}
