{
 "cells": [
  {
   "cell_type": "code",
   "execution_count": 71,
   "metadata": {},
   "outputs": [
    {
     "name": "stdout",
     "output_type": "stream",
     "text": [
      "Intel MKL WARNING: Support of Intel(R) Streaming SIMD Extensions 4.2 (Intel(R) SSE4.2) enabled only processors has been deprecated. Intel oneAPI Math Kernel Library 2025.0 will require Intel(R) Advanced Vector Extensions (Intel(R) AVX) instructions.\n",
      "Intel MKL WARNING: Support of Intel(R) Streaming SIMD Extensions 4.2 (Intel(R) SSE4.2) enabled only processors has been deprecated. Intel oneAPI Math Kernel Library 2025.0 will require Intel(R) Advanced Vector Extensions (Intel(R) AVX) instructions.\n"
     ]
    }
   ],
   "source": [
    "# Importing the libraries\n",
    "import os\n",
    "import pandas as pd"
   ]
  },
  {
   "cell_type": "code",
   "execution_count": 68,
   "metadata": {},
   "outputs": [],
   "source": [
    "monolingual = []\n",
    "labels = [0]*8000 + [1]*8000\n",
    "i = 0\n",
    "# Read 4,000 spanish from ProfNER\n",
    "for file in os.listdir(\"profner/subtask-1/train-valid-txt-files/train\"):\n",
    "    if i == 4000:\n",
    "        break\n",
    "    if file.endswith(\".txt\"):\n",
    "        i += 1\n",
    "        with open(\"profner/subtask-1/train-valid-txt-files/train/\"+file, \"r\") as f:\n",
    "            text = f.read()\n",
    "            monolingual.append(text)\n",
    "\n",
    "# Read 4,000 english from ProfNER\n",
    "for file in os.listdir(\"profner/subtask-1/train-valid-txt-files-english/train\"):\n",
    "    if i == 8000:\n",
    "        break\n",
    "    if file.endswith(\".txt\"):\n",
    "        i += 1\n",
    "        with open(\"profner/subtask-1/train-valid-txt-files-english/train/\"+file, \"r\") as f:\n",
    "            text = f.read()\n",
    "            monolingual.append(text)"
   ]
  },
  {
   "cell_type": "code",
   "execution_count": 61,
   "metadata": {},
   "outputs": [],
   "source": [
    "# Read 8,000 Code Switched from SentiMix\n",
    "i = 0\n",
    "bilingual = []\n",
    "with open(\"Semeval_2020_task9_data/Spanglish/Spanglish_train.conll\", \"r\") as f:\n",
    "    lines = f.readlines()\n",
    "\n",
    "\n",
    "for line in lines:\n",
    "    if i == 8000:\n",
    "        break\n",
    "    if len(line.split()) == 0:\n",
    "        acc = acc[:-1]\n",
    "        bilingual.append(acc)\n",
    "        i += 1\n",
    "    elif line.split()[0] == \"meta\":\n",
    "        acc = \"\"\n",
    "    else:\n",
    "        acc += line.split()[0] + \" \""
   ]
  },
  {
   "cell_type": "code",
   "execution_count": 72,
   "metadata": {},
   "outputs": [],
   "source": [
    "# Output to csv\n",
    "dictionary = {\"sentences\": monolingual+bilingual, \"labels\": labels}\n",
    "df = pd.DataFrame(dictionary)\n",
    "df.to_csv(\"classification_dataset.csv\", index=False)"
   ]
  }
 ],
 "metadata": {
  "kernelspec": {
   "display_name": "research",
   "language": "python",
   "name": "python3"
  },
  "language_info": {
   "codemirror_mode": {
    "name": "ipython",
    "version": 3
   },
   "file_extension": ".py",
   "mimetype": "text/x-python",
   "name": "python",
   "nbconvert_exporter": "python",
   "pygments_lexer": "ipython3",
   "version": "3.9.20"
  }
 },
 "nbformat": 4,
 "nbformat_minor": 2
}
