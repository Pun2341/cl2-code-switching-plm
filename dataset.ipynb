{
 "cells": [
  {
   "cell_type": "code",
   "execution_count": 1,
   "metadata": {},
   "outputs": [],
   "source": [
    "# Importing the libraries\n",
    "import os\n",
    "import pandas as pd"
   ]
  },
  {
   "cell_type": "code",
   "execution_count": 2,
   "metadata": {},
   "outputs": [
    {
     "ename": "FileNotFoundError",
     "evalue": "[Errno 2] No such file or directory: 'classidataset/profner/subtask-1/train-valid-txt-files/train'",
     "output_type": "error",
     "traceback": [
      "\u001b[0;31m---------------------------------------------------------------------------\u001b[0m",
      "\u001b[0;31mFileNotFoundError\u001b[0m                         Traceback (most recent call last)",
      "Cell \u001b[0;32mIn[2], line 5\u001b[0m\n\u001b[1;32m      3\u001b[0m i \u001b[38;5;241m=\u001b[39m \u001b[38;5;241m0\u001b[39m\n\u001b[1;32m      4\u001b[0m \u001b[38;5;66;03m# Read 4,000 spanish from ProfNER\u001b[39;00m\n\u001b[0;32m----> 5\u001b[0m \u001b[38;5;28;01mfor\u001b[39;00m file \u001b[38;5;129;01min\u001b[39;00m \u001b[43mos\u001b[49m\u001b[38;5;241;43m.\u001b[39;49m\u001b[43mlistdir\u001b[49m\u001b[43m(\u001b[49m\u001b[38;5;124;43m\"\u001b[39;49m\u001b[38;5;124;43mclassidataset/profner/subtask-1/train-valid-txt-files/train\u001b[39;49m\u001b[38;5;124;43m\"\u001b[39;49m\u001b[43m)\u001b[49m:\n\u001b[1;32m      6\u001b[0m     \u001b[38;5;28;01mif\u001b[39;00m i \u001b[38;5;241m==\u001b[39m \u001b[38;5;241m4000\u001b[39m:\n\u001b[1;32m      7\u001b[0m         \u001b[38;5;28;01mbreak\u001b[39;00m\n",
      "\u001b[0;31mFileNotFoundError\u001b[0m: [Errno 2] No such file or directory: 'classidataset/profner/subtask-1/train-valid-txt-files/train'"
     ]
    }
   ],
   "source": [
    "monolingual = []\n",
    "labels = [0]*8000 + [1]*8000\n",
    "i = 0\n",
    "# Read 4,000 spanish from ProfNER\n",
    "for file in os.listdir(\"classidataset/profner/subtask-1/train-valid-txt-files/train\"):\n",
    "    if i == 4000:\n",
    "        break\n",
    "    if file.endswith(\".txt\"):\n",
    "        i += 1\n",
    "        with open(\"classidataset/profner/subtask-1/train-valid-txt-files/train/\"+file, \"r\") as f:\n",
    "            text = f.read()\n",
    "            monolingual.append(text)\n",
    "\n",
    "# Read 4,000 english from ProfNER\n",
    "for file in os.listdir(\"classidataset/profner/subtask-1/train-valid-txt-files-english/train\"):\n",
    "    if i == 8000:\n",
    "        break\n",
    "    if file.endswith(\".txt\"):\n",
    "        i += 1\n",
    "        with open(\"classidataset/profner/subtask-1/train-valid-txt-files-english/train/\"+file, \"r\") as f:\n",
    "            text = f.read()\n",
    "            monolingual.append(text)"
   ]
  },
  {
   "cell_type": "code",
   "execution_count": null,
   "metadata": {},
   "outputs": [],
   "source": [
    "# Read 8,000 Code Switched from SentiMix\n",
    "i = 0\n",
    "bilingual = []\n",
    "with open(\"Semeval_2020_task9_data/Spanglish/Spanglish_train.conll\", \"r\") as f:\n",
    "    lines = f.readlines()\n",
    "\n",
    "\n",
    "for line in lines:\n",
    "    if i == 8000:\n",
    "        break\n",
    "    if len(line.split()) == 0:\n",
    "        acc = acc[:-1]\n",
    "        bilingual.append(acc)\n",
    "        i += 1\n",
    "    elif line.split()[0] == \"meta\":\n",
    "        acc = \"\"\n",
    "    else:\n",
    "        acc += line.split()[0] + \" \""
   ]
  },
  {
   "cell_type": "code",
   "execution_count": null,
   "metadata": {},
   "outputs": [],
   "source": [
    "# Output to csv\n",
    "dictionary = {\"sentences\": monolingual+bilingual, \"labels\": labels}\n",
    "df = pd.DataFrame(dictionary)\n",
    "df.to_csv(\"classification_dataset.csv\", index=False)"
   ]
  }
 ],
 "metadata": {
  "kernelspec": {
   "display_name": "venv",
   "language": "python",
   "name": "python3"
  },
  "language_info": {
   "codemirror_mode": {
    "name": "ipython",
    "version": 3
   },
   "file_extension": ".py",
   "mimetype": "text/x-python",
   "name": "python",
   "nbconvert_exporter": "python",
   "pygments_lexer": "ipython3",
   "version": "3.11.4"
  }
 },
 "nbformat": 4,
 "nbformat_minor": 2
}
